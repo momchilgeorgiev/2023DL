{
  "nbformat": 4,
  "nbformat_minor": 0,
  "metadata": {
    "colab": {
      "provenance": [],
      "gpuType": "T4",
      "mount_file_id": "https://github.com/momchilgeorgiev/2023DL/blob/main/Project2024DL.ipynb",
      "authorship_tag": "ABX9TyOEwBWon8vLh7TZgO93Qf7+",
      "include_colab_link": true
    },
    "kernelspec": {
      "name": "python3",
      "display_name": "Python 3"
    },
    "language_info": {
      "name": "python"
    },
    "accelerator": "GPU"
  },
  "cells": [
    {
      "cell_type": "markdown",
      "metadata": {
        "id": "view-in-github",
        "colab_type": "text"
      },
      "source": [
        "<a href=\"https://colab.research.google.com/github/momchilgeorgiev/2023DL/blob/main/Project2024DL.ipynb\" target=\"_parent\"><img src=\"https://colab.research.google.com/assets/colab-badge.svg\" alt=\"Open In Colab\"/></a>"
      ]
    },
    {
      "cell_type": "code",
      "execution_count": 1,
      "metadata": {
        "id": "58mzllB218vi"
      },
      "outputs": [],
      "source": [
        "import tensorflow as tf\n",
        "from tensorflow.keras.layers import Dense, Input, Dropout, MaxPool2D, Conv2D, Flatten, Rescaling, Resizing\n",
        "from tensorflow.keras.models import Sequential, Model\n",
        "\n",
        "import matplotlib.pyplot as plt\n",
        "import numpy as np\n",
        "import pandas as pd"
      ]
    },
    {
      "cell_type": "code",
      "source": [
        "! pip install kaggle\n",
        "! mkdir ~/.kaggle\n",
        "! cp kaggle.json ~/.kaggle/\n",
        "! chmod 600 ~/.kaggle/kaggle.json\n",
        "! kaggle datasets download paultimothymooney/chest-xray-pneumonia\n",
        "! unzip /content/chest-xray-pneumonia.zip"
      ],
      "metadata": {
        "id": "CcAh4mfrU8cA",
        "outputId": "56c8570f-89cb-4157-86be-ec66d982a6d6",
        "colab": {
          "base_uri": "https://localhost:8080/"
        }
      },
      "execution_count": null,
      "outputs": [
        {
          "output_type": "stream",
          "name": "stdout",
          "text": [
            "Requirement already satisfied: kaggle in /usr/local/lib/python3.10/dist-packages (1.5.16)\n",
            "Requirement already satisfied: six>=1.10 in /usr/local/lib/python3.10/dist-packages (from kaggle) (1.16.0)\n",
            "Requirement already satisfied: certifi in /usr/local/lib/python3.10/dist-packages (from kaggle) (2023.11.17)\n",
            "Requirement already satisfied: python-dateutil in /usr/local/lib/python3.10/dist-packages (from kaggle) (2.8.2)\n",
            "Requirement already satisfied: requests in /usr/local/lib/python3.10/dist-packages (from kaggle) (2.31.0)\n",
            "Requirement already satisfied: tqdm in /usr/local/lib/python3.10/dist-packages (from kaggle) (4.66.1)\n",
            "Requirement already satisfied: python-slugify in /usr/local/lib/python3.10/dist-packages (from kaggle) (8.0.1)\n",
            "Requirement already satisfied: urllib3 in /usr/local/lib/python3.10/dist-packages (from kaggle) (2.0.7)\n",
            "Requirement already satisfied: bleach in /usr/local/lib/python3.10/dist-packages (from kaggle) (6.1.0)\n",
            "Requirement already satisfied: webencodings in /usr/local/lib/python3.10/dist-packages (from bleach->kaggle) (0.5.1)\n",
            "Requirement already satisfied: text-unidecode>=1.3 in /usr/local/lib/python3.10/dist-packages (from python-slugify->kaggle) (1.3)\n",
            "Requirement already satisfied: charset-normalizer<4,>=2 in /usr/local/lib/python3.10/dist-packages (from requests->kaggle) (3.3.2)\n",
            "Requirement already satisfied: idna<4,>=2.5 in /usr/local/lib/python3.10/dist-packages (from requests->kaggle) (3.6)\n",
            "cp: cannot stat 'kaggle.json': No such file or directory\n",
            "chmod: cannot access '/root/.kaggle/kaggle.json': No such file or directory\n",
            "Traceback (most recent call last):\n",
            "  File \"/usr/local/bin/kaggle\", line 5, in <module>\n",
            "    from kaggle.cli import main\n",
            "  File \"/usr/local/lib/python3.10/dist-packages/kaggle/__init__.py\", line 23, in <module>\n",
            "    api.authenticate()\n",
            "  File \"/usr/local/lib/python3.10/dist-packages/kaggle/api/kaggle_api_extended.py\", line 403, in authenticate\n",
            "    raise IOError('Could not find {}. Make sure it\\'s located in'\n",
            "OSError: Could not find kaggle.json. Make sure it's located in /root/.kaggle. Or use the environment method.\n",
            "unzip:  cannot find or open /content/chest-xray-pneumonia.zip, /content/chest-xray-pneumonia.zip.zip or /content/chest-xray-pneumonia.zip.ZIP.\n"
          ]
        }
      ]
    },
    {
      "cell_type": "markdown",
      "source": [
        "# Project Notebook :)\n",
        "\n",
        "## Main ideas\n",
        "\n",
        "* time: 10.jan.2024 - 5.feb.2024\n",
        "* has to be simple\n",
        "* maybe somethings about biology\n",
        "\n",
        "### Progress\n",
        "\n",
        "I have downloaded a [chest X-ray ds](https://www.kaggle.com/datasets/paultimothymooney/chest-xray-pneumonia/data) that can be used to identify pneumonia patients. I want to create a NN that classifies pediatric pnuemonia.\n",
        "\n",
        "**Current objectives:**\n",
        "* Wacth 2 lectures on NN testing and how to work with images\n",
        "\n",
        "**Feature objectives:**\n",
        "\n",
        "1. Load data\n",
        "  1. Preprocess it\n",
        "2. Normalize data\n",
        "3. Create a simple CNN\n"
      ],
      "metadata": {
        "id": "C0j9F9lR2jgJ"
      }
    },
    {
      "cell_type": "markdown",
      "source": [
        "### Load data"
      ],
      "metadata": {
        "id": "-Lrtn5LJ8VeF"
      }
    },
    {
      "cell_type": "code",
      "source": [
        "TRAIN_PATH = \"/content/drive/MyDrive/data/train\"\n",
        "TEST_PATH = \"/content/drive/MyDrive/data/test\"\n",
        "AUTOTUNE = tf.data.AUTOTUNE"
      ],
      "metadata": {
        "id": "ggBdRA4W8yJR"
      },
      "execution_count": 2,
      "outputs": []
    },
    {
      "cell_type": "code",
      "source": [
        "train_ds = tf.keras.utils.image_dataset_from_directory(TRAIN_PATH, validation_split = 0.2, subset = 'training', seed = 42)\n",
        "val_ds = tf.keras.utils.image_dataset_from_directory(TRAIN_PATH, validation_split = 0.2, subset = 'validation', seed = 42)\n",
        "test_ds = tf.keras.utils.image_dataset_from_directory(TEST_PATH, seed = 42)\n",
        ""
      ],
      "metadata": {
        "colab": {
          "base_uri": "https://localhost:8080/"
        },
        "id": "8B-MXxKR8-ig",
        "outputId": "732db610-fc4d-4e67-8670-068ca87189e8"
      },
      "execution_count": 3,
      "outputs": [
        {
          "output_type": "stream",
          "name": "stdout",
          "text": [
            "Found 3770 files belonging to 2 classes.\n",
            "Using 3016 files for training.\n",
            "Found 3770 files belonging to 2 classes.\n",
            "Using 754 files for validation.\n",
            "Found 624 files belonging to 2 classes.\n"
          ]
        }
      ]
    },
    {
      "cell_type": "code",
      "source": [
        "CLASS_NUM = 2\n",
        "train_ds = train_ds.cache().prefetch(buffer_size=AUTOTUNE)\n",
        "val_ds = val_ds.cache().prefetch(buffer_size=AUTOTUNE)"
      ],
      "metadata": {
        "id": "oHi6GLf09Xl8"
      },
      "execution_count": 4,
      "outputs": []
    },
    {
      "cell_type": "code",
      "source": [
        "tf.keras.backend.clear_session()"
      ],
      "metadata": {
        "id": "QBtOJ1apBXIP"
      },
      "execution_count": 5,
      "outputs": []
    },
    {
      "cell_type": "code",
      "source": [
        "model = Sequential([\n",
        "\n",
        "    Rescaling(1./255),\n",
        "\n",
        "    Conv2D(32, 3, padding = 'valid', activation = 'relu'),\n",
        "    MaxPool2D(),\n",
        "    Conv2D(32, 3, padding = 'valid', activation = 'relu'),\n",
        "    MaxPool2D(),\n",
        "\n",
        "    Conv2D(32, 3, padding = 'valid', activation = 'relu'),\n",
        "    MaxPool2D(),\n",
        "    Conv2D(32, 3, padding = 'valid', activation = 'relu'),\n",
        "    MaxPool2D(),\n",
        "\n",
        "    Flatten(),\n",
        "    Dense(32, activation = 'relu'),\n",
        "    Dense(16, activation = 'relu'),\n",
        "    Dense(CLASS_NUM, activation = 'sigmoid'),\n",
        "])"
      ],
      "metadata": {
        "id": "sidpMGi2_Eii"
      },
      "execution_count": 6,
      "outputs": []
    },
    {
      "cell_type": "code",
      "source": [
        "model.compile(optimizer = 'adam', loss = 'sparse_categorical_crossentropy', metrics = ['accuracy'])"
      ],
      "metadata": {
        "id": "alTBZDN7Ax3S"
      },
      "execution_count": 7,
      "outputs": []
    },
    {
      "cell_type": "code",
      "source": [
        "model.fit(train_ds, validation_data = val_ds, epochs = 3)"
      ],
      "metadata": {
        "id": "v6-MkU1YA_Wc",
        "outputId": "8bb3e54b-7f03-4207-b6c7-1ba16ab02d48",
        "colab": {
          "base_uri": "https://localhost:8080/"
        }
      },
      "execution_count": 8,
      "outputs": [
        {
          "output_type": "stream",
          "name": "stdout",
          "text": [
            "Epoch 1/3\n",
            "95/95 [==============================] - 49s 415ms/step - loss: 0.3979 - accuracy: 0.8067 - val_loss: 0.1536 - val_accuracy: 0.9416\n",
            "Epoch 2/3\n",
            "95/95 [==============================] - 5s 48ms/step - loss: 0.1571 - accuracy: 0.9393 - val_loss: 0.1194 - val_accuracy: 0.9642\n",
            "Epoch 3/3\n",
            "95/95 [==============================] - 4s 47ms/step - loss: 0.1292 - accuracy: 0.9542 - val_loss: 0.1170 - val_accuracy: 0.9642\n"
          ]
        },
        {
          "output_type": "execute_result",
          "data": {
            "text/plain": [
              "<keras.src.callbacks.History at 0x7f05e4c60580>"
            ]
          },
          "metadata": {},
          "execution_count": 8
        }
      ]
    },
    {
      "cell_type": "code",
      "source": [
        "model.evaluate(train_ds)"
      ],
      "metadata": {
        "id": "hHE3d2fvFNfN",
        "outputId": "0f4b61eb-4981-4448-d9d4-7fab452b5142",
        "colab": {
          "base_uri": "https://localhost:8080/"
        }
      },
      "execution_count": 9,
      "outputs": [
        {
          "output_type": "stream",
          "name": "stdout",
          "text": [
            "95/95 [==============================] - 2s 17ms/step - loss: 0.0908 - accuracy: 0.9685\n"
          ]
        },
        {
          "output_type": "execute_result",
          "data": {
            "text/plain": [
              "[0.09084681421518326, 0.9685013294219971]"
            ]
          },
          "metadata": {},
          "execution_count": 9
        }
      ]
    },
    {
      "cell_type": "code",
      "source": [
        "model.save('pediatric_pneumonia_model_1.keras')"
      ],
      "metadata": {
        "id": "3ylcqSumOp1c"
      },
      "execution_count": 12,
      "outputs": []
    },
    {
      "cell_type": "code",
      "source": [
        "model.summary()"
      ],
      "metadata": {
        "id": "i4gWz1VgKNj9",
        "outputId": "70a3827e-3b48-45fe-ec39-f3158417edc3",
        "colab": {
          "base_uri": "https://localhost:8080/"
        }
      },
      "execution_count": 10,
      "outputs": [
        {
          "output_type": "stream",
          "name": "stdout",
          "text": [
            "Model: \"sequential\"\n",
            "_________________________________________________________________\n",
            " Layer (type)                Output Shape              Param #   \n",
            "=================================================================\n",
            " rescaling (Rescaling)       (None, 256, 256, 3)       0         \n",
            "                                                                 \n",
            " conv2d (Conv2D)             (None, 254, 254, 32)      896       \n",
            "                                                                 \n",
            " max_pooling2d (MaxPooling2  (None, 127, 127, 32)      0         \n",
            " D)                                                              \n",
            "                                                                 \n",
            " conv2d_1 (Conv2D)           (None, 125, 125, 32)      9248      \n",
            "                                                                 \n",
            " max_pooling2d_1 (MaxPoolin  (None, 62, 62, 32)        0         \n",
            " g2D)                                                            \n",
            "                                                                 \n",
            " conv2d_2 (Conv2D)           (None, 60, 60, 32)        9248      \n",
            "                                                                 \n",
            " max_pooling2d_2 (MaxPoolin  (None, 30, 30, 32)        0         \n",
            " g2D)                                                            \n",
            "                                                                 \n",
            " conv2d_3 (Conv2D)           (None, 28, 28, 32)        9248      \n",
            "                                                                 \n",
            " max_pooling2d_3 (MaxPoolin  (None, 14, 14, 32)        0         \n",
            " g2D)                                                            \n",
            "                                                                 \n",
            " flatten (Flatten)           (None, 6272)              0         \n",
            "                                                                 \n",
            " dense (Dense)               (None, 32)                200736    \n",
            "                                                                 \n",
            " dense_1 (Dense)             (None, 16)                528       \n",
            "                                                                 \n",
            " dense_2 (Dense)             (None, 2)                 34        \n",
            "                                                                 \n",
            "=================================================================\n",
            "Total params: 229938 (898.20 KB)\n",
            "Trainable params: 229938 (898.20 KB)\n",
            "Non-trainable params: 0 (0.00 Byte)\n",
            "_________________________________________________________________\n"
          ]
        }
      ]
    }
  ]
}