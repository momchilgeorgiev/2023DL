{
  "nbformat": 4,
  "nbformat_minor": 0,
  "metadata": {
    "colab": {
      "provenance": [],
      "gpuType": "T4",
      "include_colab_link": true
    },
    "kernelspec": {
      "name": "python3",
      "display_name": "Python 3"
    },
    "language_info": {
      "name": "python"
    },
    "accelerator": "GPU"
  },
  "cells": [
    {
      "cell_type": "markdown",
      "metadata": {
        "id": "view-in-github",
        "colab_type": "text"
      },
      "source": [
        "<a href=\"https://colab.research.google.com/github/momchilgeorgiev/2023DL/blob/main/Testing2.ipynb\" target=\"_parent\"><img src=\"https://colab.research.google.com/assets/colab-badge.svg\" alt=\"Open In Colab\"/></a>"
      ]
    },
    {
      "cell_type": "code",
      "execution_count": 1,
      "metadata": {
        "id": "Ezbd5Vj_W0FQ"
      },
      "outputs": [],
      "source": [
        "import tensorflow as tf\n",
        "import tensorflow_datasets as tfds\n",
        "from tensorflow.keras.layers import Dense, Flatten, Conv2D, \\\n",
        "                             Dropout, Input, MaxPool2D, Rescaling, BatchNormalization\n",
        "from tensorflow.keras.models import Sequential, Model\n",
        "\n",
        "import numpy as np\n",
        "import pandas as pd\n",
        "import matplotlib.pyplot as plt"
      ]
    },
    {
      "cell_type": "markdown",
      "source": [
        "![img](https://live.staticflickr.com/65535/51304224388_f5f4136338_h.jpg)"
      ],
      "metadata": {
        "id": "BrxgtnAFm8he"
      }
    },
    {
      "cell_type": "markdown",
      "source": [
        "### Notes\n",
        "\n",
        "- Check grad-cam, CAMs, Saliency Maps\n",
        "- Implement transferlearning\n",
        "  - Which backbone to use? Why was it chosen?\n",
        "  - [Mehendale N. et al.](https://pubmed.ncbi.nlm.nih.gov/34075355/) use different models for all the subcases of the whole problem\n",
        "    - They use VGG16, DenseNet and ResNet. Here is a [diagram](https://www.ncbi.nlm.nih.gov/pmc/articles/instance/8152712/bin/42979_2021_695_Fig1_HTML.jpg)\n",
        "    - Check out [this](https://www.analyticsvidhya.com/blog/2022/03/x-ray-classification-using-pretrained-stacked-model/) article also\n",
        "- Model explainability\n",
        "  - Check out [this](https://neptune.ai/blog/explainability-auditability-ml-definitions-techniques-tools) post\n",
        "  - [IBMs](https://www.ibm.com/topics/explainable-ai) thingy"
      ],
      "metadata": {
        "id": "XySId3w7dnsb"
      }
    },
    {
      "cell_type": "markdown",
      "source": [
        "### Code"
      ],
      "metadata": {
        "id": "-sOiO4dzdpd8"
      }
    },
    {
      "cell_type": "code",
      "source": [
        "(ds_train, ds_test), ds_info = tfds.load(\n",
        "    'cifar100',\n",
        "    split=['train', 'test'],\n",
        "    shuffle_files=True,\n",
        "    as_supervised=True,\n",
        "    with_info=True\n",
        ")"
      ],
      "metadata": {
        "id": "E0l_KRXrW4zn"
      },
      "execution_count": 52,
      "outputs": []
    },
    {
      "cell_type": "markdown",
      "source": [
        "use `with_info` to get dict with the features of the dataset you dumb-dumb"
      ],
      "metadata": {
        "id": "iWiERb5yfRDa"
      }
    },
    {
      "cell_type": "code",
      "source": [
        "ds_info.features"
      ],
      "metadata": {
        "colab": {
          "base_uri": "https://localhost:8080/"
        },
        "id": "pKC1ncfA_PZv",
        "outputId": "57a85d82-c586-498d-f174-146f32c75a7e"
      },
      "execution_count": 38,
      "outputs": [
        {
          "output_type": "execute_result",
          "data": {
            "text/plain": [
              "FeaturesDict({\n",
              "    'coarse_label': ClassLabel(shape=(), dtype=int64, num_classes=20),\n",
              "    'id': Text(shape=(), dtype=string),\n",
              "    'image': Image(shape=(32, 32, 3), dtype=uint8),\n",
              "    'label': ClassLabel(shape=(), dtype=int64, num_classes=100),\n",
              "})"
            ]
          },
          "metadata": {},
          "execution_count": 38
        }
      ]
    },
    {
      "cell_type": "markdown",
      "source": [
        "### Dataset to numpy:"
      ],
      "metadata": {
        "id": "hrHBHTzjbhis"
      }
    },
    {
      "cell_type": "code",
      "source": [
        "# Create a subset of ds_train and ds_val\n",
        "ds_train_subset = ds_train.take(500)\n",
        "ds_val = ds_train.skip(600).take(50)\n",
        "\n",
        "# Convert datasets to np arrays\n",
        "def dataset_to_numpy(dataset):\n",
        "    features = []\n",
        "    labels = []\n",
        "\n",
        "    for feature, label in tfds.as_numpy(dataset):\n",
        "        features.append(feature)\n",
        "        labels.append(label)\n",
        "\n",
        "    return np.array(features), np.array(labels)\n",
        "\n",
        "# Convert ds_train_subset and ds_val to np arrays\n",
        "np_train_features, np_train_labels = dataset_to_numpy(ds_train_subset)\n",
        "np_val_features, np_val_labels = dataset_to_numpy(ds_val)"
      ],
      "metadata": {
        "id": "3h9_p-G-zEsf"
      },
      "execution_count": 5,
      "outputs": []
    },
    {
      "cell_type": "code",
      "source": [
        "print(\"-------TRAIN--------\")\n",
        "print(np_train_features.shape)\n",
        "print(np_train_labels.shape)\n",
        "print(\"-------VALIDATION--------\")\n",
        "print(np_val_features.shape)\n",
        "print(np_val_labels.shape)"
      ],
      "metadata": {
        "colab": {
          "base_uri": "https://localhost:8080/"
        },
        "id": "hM-us8alzlQZ",
        "outputId": "bbfadd3c-c882-4e5f-f837-19c49c328589"
      },
      "execution_count": 6,
      "outputs": [
        {
          "output_type": "stream",
          "name": "stdout",
          "text": [
            "-------TRAIN--------\n",
            "(500, 16, 32, 32, 3)\n",
            "(500, 16)\n",
            "-------VALIDATION--------\n",
            "(50, 16, 32, 32, 3)\n",
            "(50, 16)\n"
          ]
        }
      ]
    },
    {
      "cell_type": "code",
      "source": [
        "np_test_features, np_test_labels = dataset_to_numpy(ds_test)\n",
        "print(\"-------TEST--------\")\n",
        "print(np_test_features.shape)\n",
        "print(np_test_labels.shape)"
      ],
      "metadata": {
        "colab": {
          "base_uri": "https://localhost:8080/"
        },
        "id": "xWZXClgzz-zp",
        "outputId": "864fdd79-d032-4bd2-a941-65814e111f02"
      },
      "execution_count": 7,
      "outputs": [
        {
          "output_type": "stream",
          "name": "stdout",
          "text": [
            "-------TEST--------\n",
            "(625, 16, 32, 32, 3)\n",
            "(625, 16)\n"
          ]
        }
      ]
    },
    {
      "cell_type": "code",
      "source": [
        "CLASS_NUM = np_test_labels.shape[1]\n",
        "print(CLASS_NUM)"
      ],
      "metadata": {
        "id": "Oyzksik8SQfX",
        "colab": {
          "base_uri": "https://localhost:8080/"
        },
        "outputId": "8109daa7-de6f-45ba-e987-365dea0eb540"
      },
      "execution_count": 8,
      "outputs": [
        {
          "output_type": "stream",
          "name": "stdout",
          "text": [
            "16\n"
          ]
        }
      ]
    },
    {
      "cell_type": "markdown",
      "source": [
        "### Preprocessing #2"
      ],
      "metadata": {
        "id": "yObJsd8rbpWA"
      }
    },
    {
      "cell_type": "code",
      "source": [
        "def preprocess(image, label):\n",
        "    image = tf.image.per_image_standardization(image)\n",
        "\n",
        "    image = tf.image.random_flip_left_right(image)\n",
        "    image = tf.image.random_brightness(image, max_delta=0.1)\n",
        "    return image, label"
      ],
      "metadata": {
        "id": "p_Gn6CxQDE9M"
      },
      "execution_count": 53,
      "outputs": []
    },
    {
      "cell_type": "code",
      "source": [
        "AUTO = tf.data.experimental.AUTOTUNE\n",
        "BATCH_SIZE = 64\n",
        "CLASS_NUM = ds_info.features['label'].num_classes\n",
        "\n",
        "ds_train_subset = ds_train.cache().shuffle(1000).take(6000).batch(BATCH_SIZE)\n",
        "ds_train_subset = ds_train_subset.prefetch(AUTO)\n",
        "\n",
        "# ds_val = ds_train.cache().shuffle(1000).skip(6100).take(600).batch(BATCH_SIZE)\n",
        "ds_val = ds_train.prefetch(AUTO).skip(6100).take(600).batch(BATCH_SIZE)\n",
        "\n",
        "ds_test = ds_test.batch(BATCH_SIZE)\n",
        "ds_test = ds_test.prefetch(buffer_size=tf.data.experimental.AUTOTUNE)"
      ],
      "metadata": {
        "id": "JtlpmV09a1rJ"
      },
      "execution_count": 58,
      "outputs": []
    },
    {
      "cell_type": "code",
      "source": [
        "tf.keras.backend.clear_session()\n",
        "model = Sequential([\n",
        "\n",
        "    Conv2D(32, (3, 3), activation='relu', input_shape=ds_info.features['image'].shape),\n",
        "    BatchNormalization(),\n",
        "    Conv2D(32, (3, 3), activation='relu'),\n",
        "    MaxPool2D(),\n",
        "    Dropout(0.3),\n",
        "\n",
        "    Conv2D(64, (3, 3), activation='relu'),\n",
        "    BatchNormalization(),\n",
        "    Conv2D(64, (3, 3), activation='relu'),\n",
        "    MaxPool2D(),\n",
        "    Dropout(0.4),\n",
        "\n",
        "    Flatten(),\n",
        "    Dense(128, activation='relu'),\n",
        "    Dropout(0.2),\n",
        "    Dense(CLASS_NUM, activation='softmax')\n",
        "\n",
        "    ])"
      ],
      "metadata": {
        "id": "yJlr8QnZHhvf"
      },
      "execution_count": 59,
      "outputs": []
    },
    {
      "cell_type": "code",
      "source": [
        "# Compile the model\n",
        "model.compile(optimizer='adam', loss='sparse_categorical_crossentropy', metrics=['accuracy'])"
      ],
      "metadata": {
        "id": "oaxtjCcVinmU"
      },
      "execution_count": 60,
      "outputs": []
    },
    {
      "cell_type": "code",
      "source": [
        "# Train the model\n",
        "history = model.fit(ds_train_subset, epochs=100, validation_data = ds_val)"
      ],
      "metadata": {
        "colab": {
          "base_uri": "https://localhost:8080/"
        },
        "id": "jvLTWiKfDWS9",
        "outputId": "b2511f53-4d70-4bdb-8b9d-65cabc1c9d18"
      },
      "execution_count": 64,
      "outputs": [
        {
          "output_type": "stream",
          "name": "stdout",
          "text": [
            "Epoch 1/100\n",
            "94/94 [==============================] - 2s 20ms/step - loss: 1.0684 - accuracy: 0.6892 - val_loss: 0.9218 - val_accuracy: 0.7750\n",
            "Epoch 2/100\n",
            "94/94 [==============================] - 3s 26ms/step - loss: 1.0611 - accuracy: 0.6928 - val_loss: 0.8376 - val_accuracy: 0.7917\n",
            "Epoch 3/100\n",
            "94/94 [==============================] - 3s 28ms/step - loss: 1.0156 - accuracy: 0.7038 - val_loss: 0.9508 - val_accuracy: 0.7617\n",
            "Epoch 4/100\n",
            "94/94 [==============================] - 2s 19ms/step - loss: 1.0396 - accuracy: 0.6992 - val_loss: 0.8952 - val_accuracy: 0.7800\n",
            "Epoch 5/100\n",
            "94/94 [==============================] - 2s 20ms/step - loss: 1.0233 - accuracy: 0.7077 - val_loss: 0.8814 - val_accuracy: 0.7567\n",
            "Epoch 6/100\n",
            "94/94 [==============================] - 2s 25ms/step - loss: 1.0136 - accuracy: 0.7070 - val_loss: 0.8154 - val_accuracy: 0.7900\n",
            "Epoch 7/100\n",
            "94/94 [==============================] - 2s 20ms/step - loss: 0.9994 - accuracy: 0.7083 - val_loss: 0.8718 - val_accuracy: 0.7683\n",
            "Epoch 8/100\n",
            "94/94 [==============================] - 4s 44ms/step - loss: 1.0084 - accuracy: 0.6960 - val_loss: 1.0408 - val_accuracy: 0.7200\n",
            "Epoch 9/100\n",
            "94/94 [==============================] - 2s 20ms/step - loss: 1.0184 - accuracy: 0.7063 - val_loss: 0.8207 - val_accuracy: 0.7883\n",
            "Epoch 10/100\n",
            "94/94 [==============================] - 2s 20ms/step - loss: 0.9962 - accuracy: 0.7138 - val_loss: 0.8058 - val_accuracy: 0.7833\n",
            "Epoch 11/100\n",
            "94/94 [==============================] - 2s 19ms/step - loss: 0.9730 - accuracy: 0.7195 - val_loss: 0.7754 - val_accuracy: 0.7900\n",
            "Epoch 12/100\n",
            "94/94 [==============================] - 2s 20ms/step - loss: 0.9502 - accuracy: 0.7172 - val_loss: 0.7394 - val_accuracy: 0.8150\n",
            "Epoch 13/100\n",
            "94/94 [==============================] - 4s 45ms/step - loss: 0.9655 - accuracy: 0.7197 - val_loss: 0.6931 - val_accuracy: 0.8167\n",
            "Epoch 14/100\n",
            "94/94 [==============================] - 2s 19ms/step - loss: 0.9893 - accuracy: 0.7100 - val_loss: 0.8371 - val_accuracy: 0.7933\n",
            "Epoch 15/100\n",
            "94/94 [==============================] - 2s 20ms/step - loss: 0.9377 - accuracy: 0.7230 - val_loss: 0.7418 - val_accuracy: 0.8050\n",
            "Epoch 16/100\n",
            "94/94 [==============================] - 2s 19ms/step - loss: 0.9481 - accuracy: 0.7250 - val_loss: 0.8036 - val_accuracy: 0.8033\n",
            "Epoch 17/100\n",
            "94/94 [==============================] - 2s 20ms/step - loss: 0.9849 - accuracy: 0.7065 - val_loss: 1.1432 - val_accuracy: 0.7250\n",
            "Epoch 18/100\n",
            "94/94 [==============================] - 3s 33ms/step - loss: 0.9567 - accuracy: 0.7185 - val_loss: 0.6956 - val_accuracy: 0.8183\n",
            "Epoch 19/100\n",
            "94/94 [==============================] - 3s 25ms/step - loss: 0.9360 - accuracy: 0.7218 - val_loss: 0.7813 - val_accuracy: 0.7983\n",
            "Epoch 20/100\n",
            "94/94 [==============================] - 2s 20ms/step - loss: 0.9254 - accuracy: 0.7270 - val_loss: 0.6715 - val_accuracy: 0.8200\n",
            "Epoch 21/100\n",
            "94/94 [==============================] - 2s 19ms/step - loss: 0.9034 - accuracy: 0.7312 - val_loss: 0.6348 - val_accuracy: 0.8450\n",
            "Epoch 22/100\n",
            "94/94 [==============================] - 3s 26ms/step - loss: 0.8698 - accuracy: 0.7442 - val_loss: 0.6249 - val_accuracy: 0.8517\n",
            "Epoch 23/100\n",
            "94/94 [==============================] - 3s 34ms/step - loss: 0.8984 - accuracy: 0.7328 - val_loss: 0.5791 - val_accuracy: 0.8583\n",
            "Epoch 24/100\n",
            "94/94 [==============================] - 2s 20ms/step - loss: 0.8514 - accuracy: 0.7495 - val_loss: 0.7843 - val_accuracy: 0.8183\n",
            "Epoch 25/100\n",
            "94/94 [==============================] - 2s 20ms/step - loss: 0.8986 - accuracy: 0.7272 - val_loss: 0.6278 - val_accuracy: 0.8383\n",
            "Epoch 26/100\n",
            "94/94 [==============================] - 3s 26ms/step - loss: 0.8808 - accuracy: 0.7402 - val_loss: 0.7152 - val_accuracy: 0.8083\n",
            "Epoch 27/100\n",
            "94/94 [==============================] - 3s 26ms/step - loss: 0.9100 - accuracy: 0.7295 - val_loss: 0.5992 - val_accuracy: 0.8467\n",
            "Epoch 28/100\n",
            "94/94 [==============================] - 3s 33ms/step - loss: 0.8888 - accuracy: 0.7390 - val_loss: 0.5624 - val_accuracy: 0.8600\n",
            "Epoch 29/100\n",
            "94/94 [==============================] - 3s 26ms/step - loss: 0.8813 - accuracy: 0.7420 - val_loss: 0.5883 - val_accuracy: 0.8533\n",
            "Epoch 30/100\n",
            "94/94 [==============================] - 2s 19ms/step - loss: 0.8685 - accuracy: 0.7413 - val_loss: 0.5767 - val_accuracy: 0.8617\n",
            "Epoch 31/100\n",
            "94/94 [==============================] - 2s 25ms/step - loss: 0.8947 - accuracy: 0.7330 - val_loss: 0.5058 - val_accuracy: 0.8783\n",
            "Epoch 32/100\n",
            "94/94 [==============================] - 3s 34ms/step - loss: 0.8534 - accuracy: 0.7487 - val_loss: 0.6333 - val_accuracy: 0.8350\n",
            "Epoch 33/100\n",
            "94/94 [==============================] - 2s 20ms/step - loss: 0.8705 - accuracy: 0.7420 - val_loss: 0.5751 - val_accuracy: 0.8683\n",
            "Epoch 34/100\n",
            "94/94 [==============================] - 2s 19ms/step - loss: 0.8163 - accuracy: 0.7637 - val_loss: 0.5087 - val_accuracy: 0.8700\n",
            "Epoch 35/100\n",
            "94/94 [==============================] - 2s 19ms/step - loss: 0.8205 - accuracy: 0.7568 - val_loss: 0.6015 - val_accuracy: 0.8400\n",
            "Epoch 36/100\n",
            "94/94 [==============================] - 2s 20ms/step - loss: 0.8340 - accuracy: 0.7612 - val_loss: 0.5120 - val_accuracy: 0.8667\n",
            "Epoch 37/100\n",
            "94/94 [==============================] - 3s 33ms/step - loss: 0.8177 - accuracy: 0.7553 - val_loss: 0.4605 - val_accuracy: 0.8750\n",
            "Epoch 38/100\n",
            "94/94 [==============================] - 2s 19ms/step - loss: 0.8096 - accuracy: 0.7615 - val_loss: 0.5490 - val_accuracy: 0.8683\n",
            "Epoch 39/100\n",
            "94/94 [==============================] - 4s 43ms/step - loss: 0.8247 - accuracy: 0.7580 - val_loss: 0.5486 - val_accuracy: 0.8583\n",
            "Epoch 40/100\n",
            "94/94 [==============================] - 3s 28ms/step - loss: 0.8217 - accuracy: 0.7570 - val_loss: 0.4610 - val_accuracy: 0.8683\n",
            "Epoch 41/100\n",
            "94/94 [==============================] - 4s 35ms/step - loss: 0.7910 - accuracy: 0.7688 - val_loss: 0.5199 - val_accuracy: 0.8517\n",
            "Epoch 42/100\n",
            "94/94 [==============================] - 3s 30ms/step - loss: 0.8006 - accuracy: 0.7660 - val_loss: 0.4994 - val_accuracy: 0.8617\n",
            "Epoch 43/100\n",
            "94/94 [==============================] - 3s 29ms/step - loss: 0.7766 - accuracy: 0.7673 - val_loss: 0.5629 - val_accuracy: 0.8367\n",
            "Epoch 44/100\n",
            "94/94 [==============================] - 4s 42ms/step - loss: 0.8132 - accuracy: 0.7592 - val_loss: 0.4808 - val_accuracy: 0.8767\n",
            "Epoch 45/100\n",
            "94/94 [==============================] - 2s 20ms/step - loss: 0.7826 - accuracy: 0.7647 - val_loss: 0.4297 - val_accuracy: 0.9000\n",
            "Epoch 46/100\n",
            "94/94 [==============================] - 2s 19ms/step - loss: 0.7614 - accuracy: 0.7718 - val_loss: 0.5227 - val_accuracy: 0.8650\n",
            "Epoch 47/100\n",
            "94/94 [==============================] - 2s 19ms/step - loss: 0.7784 - accuracy: 0.7702 - val_loss: 0.4366 - val_accuracy: 0.8783\n",
            "Epoch 48/100\n",
            "94/94 [==============================] - 2s 20ms/step - loss: 0.7921 - accuracy: 0.7595 - val_loss: 0.4081 - val_accuracy: 0.8917\n",
            "Epoch 49/100\n",
            "94/94 [==============================] - 4s 43ms/step - loss: 0.7796 - accuracy: 0.7733 - val_loss: 0.4023 - val_accuracy: 0.9000\n",
            "Epoch 50/100\n",
            "94/94 [==============================] - 2s 20ms/step - loss: 0.7687 - accuracy: 0.7712 - val_loss: 0.4300 - val_accuracy: 0.8867\n",
            "Epoch 51/100\n",
            "94/94 [==============================] - 2s 19ms/step - loss: 0.7289 - accuracy: 0.7853 - val_loss: 0.5096 - val_accuracy: 0.8767\n",
            "Epoch 52/100\n",
            "94/94 [==============================] - 2s 19ms/step - loss: 0.7704 - accuracy: 0.7755 - val_loss: 0.4114 - val_accuracy: 0.9017\n",
            "Epoch 53/100\n",
            "94/94 [==============================] - 2s 20ms/step - loss: 0.7656 - accuracy: 0.7740 - val_loss: 0.4819 - val_accuracy: 0.8817\n",
            "Epoch 54/100\n",
            "94/94 [==============================] - 3s 33ms/step - loss: 0.7398 - accuracy: 0.7807 - val_loss: 0.4058 - val_accuracy: 0.8800\n",
            "Epoch 55/100\n",
            "94/94 [==============================] - 2s 19ms/step - loss: 0.7337 - accuracy: 0.7798 - val_loss: 0.4036 - val_accuracy: 0.8817\n",
            "Epoch 56/100\n",
            "94/94 [==============================] - 2s 20ms/step - loss: 0.7524 - accuracy: 0.7773 - val_loss: 0.5719 - val_accuracy: 0.8517\n",
            "Epoch 57/100\n",
            "94/94 [==============================] - 2s 19ms/step - loss: 0.7421 - accuracy: 0.7787 - val_loss: 0.4502 - val_accuracy: 0.8767\n",
            "Epoch 58/100\n",
            "94/94 [==============================] - 3s 26ms/step - loss: 0.7228 - accuracy: 0.7858 - val_loss: 0.4795 - val_accuracy: 0.8700\n",
            "Epoch 59/100\n",
            "94/94 [==============================] - 3s 34ms/step - loss: 0.7397 - accuracy: 0.7742 - val_loss: 0.3853 - val_accuracy: 0.9133\n",
            "Epoch 60/100\n",
            "94/94 [==============================] - 2s 19ms/step - loss: 0.7536 - accuracy: 0.7732 - val_loss: 0.3910 - val_accuracy: 0.9250\n",
            "Epoch 61/100\n",
            "94/94 [==============================] - 2s 19ms/step - loss: 0.7407 - accuracy: 0.7782 - val_loss: 0.3749 - val_accuracy: 0.9133\n",
            "Epoch 62/100\n",
            "94/94 [==============================] - 2s 19ms/step - loss: 0.7050 - accuracy: 0.7940 - val_loss: 0.3311 - val_accuracy: 0.9300\n",
            "Epoch 63/100\n",
            "94/94 [==============================] - 2s 20ms/step - loss: 0.7456 - accuracy: 0.7753 - val_loss: 0.3575 - val_accuracy: 0.9167\n",
            "Epoch 64/100\n",
            "94/94 [==============================] - 3s 34ms/step - loss: 0.7072 - accuracy: 0.7923 - val_loss: 0.3368 - val_accuracy: 0.9150\n",
            "Epoch 65/100\n",
            "94/94 [==============================] - 3s 26ms/step - loss: 0.6889 - accuracy: 0.7892 - val_loss: 0.3778 - val_accuracy: 0.9100\n",
            "Epoch 66/100\n",
            "94/94 [==============================] - 2s 19ms/step - loss: 0.7163 - accuracy: 0.7888 - val_loss: 0.4384 - val_accuracy: 0.8917\n",
            "Epoch 67/100\n",
            "94/94 [==============================] - 2s 19ms/step - loss: 0.7029 - accuracy: 0.7928 - val_loss: 0.4436 - val_accuracy: 0.8933\n",
            "Epoch 68/100\n",
            "94/94 [==============================] - 2s 19ms/step - loss: 0.7369 - accuracy: 0.7803 - val_loss: 0.3104 - val_accuracy: 0.9250\n",
            "Epoch 69/100\n",
            "94/94 [==============================] - 2s 23ms/step - loss: 0.7119 - accuracy: 0.7857 - val_loss: 0.3687 - val_accuracy: 0.9133\n",
            "Epoch 70/100\n",
            "94/94 [==============================] - 3s 34ms/step - loss: 0.7329 - accuracy: 0.7840 - val_loss: 0.3308 - val_accuracy: 0.9217\n",
            "Epoch 71/100\n",
            "94/94 [==============================] - 2s 20ms/step - loss: 0.6850 - accuracy: 0.7920 - val_loss: 0.3221 - val_accuracy: 0.9183\n",
            "Epoch 72/100\n",
            "94/94 [==============================] - 2s 19ms/step - loss: 0.6822 - accuracy: 0.7985 - val_loss: 0.3930 - val_accuracy: 0.8950\n",
            "Epoch 73/100\n",
            "94/94 [==============================] - 2s 20ms/step - loss: 0.7012 - accuracy: 0.7945 - val_loss: 0.3124 - val_accuracy: 0.9250\n",
            "Epoch 74/100\n",
            "94/94 [==============================] - 2s 19ms/step - loss: 0.6924 - accuracy: 0.7902 - val_loss: 0.3125 - val_accuracy: 0.9200\n",
            "Epoch 75/100\n",
            "94/94 [==============================] - 3s 32ms/step - loss: 0.6868 - accuracy: 0.7927 - val_loss: 0.3836 - val_accuracy: 0.8950\n",
            "Epoch 76/100\n",
            "94/94 [==============================] - 2s 19ms/step - loss: 0.6664 - accuracy: 0.8032 - val_loss: 0.3591 - val_accuracy: 0.9050\n",
            "Epoch 77/100\n",
            "94/94 [==============================] - 3s 26ms/step - loss: 0.6615 - accuracy: 0.8048 - val_loss: 0.5450 - val_accuracy: 0.8600\n",
            "Epoch 78/100\n",
            "94/94 [==============================] - 4s 40ms/step - loss: 0.6658 - accuracy: 0.7978 - val_loss: 0.3551 - val_accuracy: 0.9067\n",
            "Epoch 79/100\n",
            "94/94 [==============================] - 2s 20ms/step - loss: 0.6593 - accuracy: 0.8062 - val_loss: 0.2954 - val_accuracy: 0.9367\n",
            "Epoch 80/100\n",
            "94/94 [==============================] - 3s 26ms/step - loss: 0.6742 - accuracy: 0.8007 - val_loss: 0.3651 - val_accuracy: 0.9067\n",
            "Epoch 81/100\n",
            "94/94 [==============================] - 3s 26ms/step - loss: 0.6567 - accuracy: 0.8032 - val_loss: 0.2778 - val_accuracy: 0.9283\n",
            "Epoch 82/100\n",
            "94/94 [==============================] - 3s 26ms/step - loss: 0.6621 - accuracy: 0.8007 - val_loss: 0.3744 - val_accuracy: 0.9083\n",
            "Epoch 83/100\n",
            "94/94 [==============================] - 4s 43ms/step - loss: 0.6467 - accuracy: 0.8133 - val_loss: 0.2788 - val_accuracy: 0.9333\n",
            "Epoch 84/100\n",
            "94/94 [==============================] - 2s 20ms/step - loss: 0.6861 - accuracy: 0.7972 - val_loss: 0.2691 - val_accuracy: 0.9383\n",
            "Epoch 85/100\n",
            "94/94 [==============================] - 2s 19ms/step - loss: 0.6689 - accuracy: 0.8015 - val_loss: 0.2838 - val_accuracy: 0.9383\n",
            "Epoch 86/100\n",
            "94/94 [==============================] - 2s 19ms/step - loss: 0.6481 - accuracy: 0.8005 - val_loss: 0.2425 - val_accuracy: 0.9417\n",
            "Epoch 87/100\n",
            "94/94 [==============================] - 2s 20ms/step - loss: 0.6641 - accuracy: 0.8130 - val_loss: 0.2827 - val_accuracy: 0.9383\n",
            "Epoch 88/100\n",
            "94/94 [==============================] - 4s 44ms/step - loss: 0.6844 - accuracy: 0.7950 - val_loss: 0.2524 - val_accuracy: 0.9400\n",
            "Epoch 89/100\n",
            "94/94 [==============================] - 3s 26ms/step - loss: 0.6536 - accuracy: 0.8058 - val_loss: 0.2488 - val_accuracy: 0.9367\n",
            "Epoch 90/100\n",
            "94/94 [==============================] - 2s 25ms/step - loss: 0.6318 - accuracy: 0.8110 - val_loss: 0.2421 - val_accuracy: 0.9300\n",
            "Epoch 91/100\n",
            "94/94 [==============================] - 2s 20ms/step - loss: 0.6403 - accuracy: 0.8033 - val_loss: 0.3530 - val_accuracy: 0.9050\n",
            "Epoch 92/100\n",
            "94/94 [==============================] - 3s 26ms/step - loss: 0.6519 - accuracy: 0.8093 - val_loss: 0.2643 - val_accuracy: 0.9433\n",
            "Epoch 93/100\n",
            "94/94 [==============================] - 3s 34ms/step - loss: 0.6252 - accuracy: 0.8138 - val_loss: 0.2781 - val_accuracy: 0.9300\n",
            "Epoch 94/100\n",
            "94/94 [==============================] - 2s 20ms/step - loss: 0.6444 - accuracy: 0.8053 - val_loss: 0.2648 - val_accuracy: 0.9467\n",
            "Epoch 95/100\n",
            "94/94 [==============================] - 2s 20ms/step - loss: 0.6217 - accuracy: 0.8165 - val_loss: 0.2371 - val_accuracy: 0.9417\n",
            "Epoch 96/100\n",
            "94/94 [==============================] - 2s 19ms/step - loss: 0.6366 - accuracy: 0.8078 - val_loss: 0.2929 - val_accuracy: 0.9300\n",
            "Epoch 97/100\n",
            "94/94 [==============================] - 4s 42ms/step - loss: 0.6166 - accuracy: 0.8140 - val_loss: 0.2380 - val_accuracy: 0.9383\n",
            "Epoch 98/100\n",
            "94/94 [==============================] - 3s 26ms/step - loss: 0.6386 - accuracy: 0.8073 - val_loss: 0.2841 - val_accuracy: 0.9383\n",
            "Epoch 99/100\n",
            "94/94 [==============================] - 2s 19ms/step - loss: 0.6189 - accuracy: 0.8127 - val_loss: 0.2376 - val_accuracy: 0.9350\n",
            "Epoch 100/100\n",
            "94/94 [==============================] - 2s 19ms/step - loss: 0.6249 - accuracy: 0.8155 - val_loss: 0.2650 - val_accuracy: 0.9350\n"
          ]
        }
      ]
    },
    {
      "cell_type": "code",
      "source": [
        "model.save('./model.h5')"
      ],
      "metadata": {
        "id": "Flt5OlPHIjf9"
      },
      "execution_count": 63,
      "outputs": []
    }
  ]
}