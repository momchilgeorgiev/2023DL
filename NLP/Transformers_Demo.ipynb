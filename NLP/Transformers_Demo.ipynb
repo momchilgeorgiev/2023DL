{
  "nbformat": 4,
  "nbformat_minor": 0,
  "metadata": {
    "colab": {
      "provenance": [],
      "authorship_tag": "ABX9TyNJLI7NghA+60G83TZU4Wnv",
      "include_colab_link": true
    },
    "kernelspec": {
      "name": "python3",
      "display_name": "Python 3"
    },
    "language_info": {
      "name": "python"
    }
  },
  "cells": [
    {
      "cell_type": "markdown",
      "metadata": {
        "id": "view-in-github",
        "colab_type": "text"
      },
      "source": [
        "<a href=\"https://colab.research.google.com/github/momchilgeorgiev/2023DL/blob/main/NLP/Transformers_Demo.ipynb\" target=\"_parent\"><img src=\"https://colab.research.google.com/assets/colab-badge.svg\" alt=\"Open In Colab\"/></a>"
      ]
    },
    {
      "cell_type": "code",
      "execution_count": null,
      "metadata": {
        "id": "PHzFYolpdevj"
      },
      "outputs": [],
      "source": [
        "%matplotlib inline\n",
        "\n",
        "# Basic libs\n",
        "import tensorflow as tf\n",
        "import tensorflow_datasets as tfds\n",
        "\n",
        "import numpy as np\n",
        "import pandas as pd\n",
        "\n",
        "import matplotlib.pyplot as plt\n",
        "import seaborn as sns\n",
        "\n",
        "# Addons"
      ]
    },
    {
      "cell_type": "markdown",
      "source": [
        "# Transformers Demo\n",
        "\n",
        "## Objectives\n",
        "1. Learn how transformers work. Examine them.\n",
        "  - If possible show visualizations.\n",
        "\n",
        "2. Implement some demos.\n",
        "\n",
        "3. If possible, think of a cool project.\n",
        "\n",
        "***"
      ],
      "metadata": {
        "id": "5R8QsCbreDCq"
      }
    },
    {
      "cell_type": "markdown",
      "source": [
        "### 1. Transformers\n",
        "General notes:\n",
        "- Main tutorial for transformer models in tensorflow - https://www.tensorflow.org/text/tutorials/transformer\n",
        "\n",
        "- Original transformer paper - https://arxiv.org/abs/1706.03762\n",
        "\n",
        "- 2 tds articles:\n",
        "  - https://towardsdatascience.com/illustrated-guide-to-transformers-step-by-step-explanation-f74876522bc0\n",
        "  - https://towardsdatascience.com/transformers-explained-visually-part-1-overview-of-functionality-95a6dd460452\n",
        "\n",
        "- Chapter 12 of udl book is about transformers\n",
        "\n",
        "- DL by Ian Goodfellow - https://www.deeplearningbook.org/\n",
        "  - Add this to logseq and make notes!!!\n",
        "\n",
        "- ML Mastery artcile - https://machinelearningmastery.com/attention-long-short-term-memory-recurrent-neural-networks/\n",
        "\n",
        "- Papers:\n",
        "  - [NEURAL MACHINE TRANSLATION BY JOINTLY LEARNING TO ALIGN AND TRANSLATE](https://arxiv.org/pdf/1409.0473.pdf)\n",
        "  - [Attention Mechanism in Neural Networks: Where it Comes and Where it Goes](https://arxiv.org/pdf/2204.13154.pdf)\n",
        "  - [Show, Attend and Tell: Neural Image Caption Generation with Visual Attention](https://arxiv.org/pdf/1502.03044.pdf)\n",
        "  - [Language Models are Few-Shot Learners](https://arxiv.org/pdf/2005.14165.pdf)\n"
      ],
      "metadata": {
        "id": "eG1fGoB5exYp"
      }
    }
  ]
}