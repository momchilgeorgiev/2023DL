{
  "cells": [
    {
      "cell_type": "code",
      "execution_count": 1,
      "metadata": {
        "id": "58mzllB218vi"
      },
      "outputs": [],
      "source": [
        "import tensorflow as tf\n",
        "from tensorflow.keras.layers import Dense, Input, Dropout, MaxPool2D, Conv2D, Flatten, Rescaling, Resizing\n",
        "from tensorflow.keras.models import Sequential, Model\n",
        "\n",
        "import matplotlib.pyplot as plt\n",
        "import numpy as np\n",
        "import pandas as pd\n",
        "\n",
        "from collections import Counter"
      ]
    },
    {
      "cell_type": "code",
      "execution_count": 2,
      "metadata": {},
      "outputs": [
        {
          "ename": "AttributeError",
          "evalue": "module 'tensorflow._api.v2.config.experimental' has no attribute 'enable_growth'",
          "output_type": "error",
          "traceback": [
            "\u001b[1;31m---------------------------------------------------------------------------\u001b[0m",
            "\u001b[1;31mAttributeError\u001b[0m                            Traceback (most recent call last)",
            "Cell \u001b[1;32mIn[2], line 7\u001b[0m\n\u001b[0;32m      5\u001b[0m   tf\u001b[38;5;241m.\u001b[39mconfig\u001b[38;5;241m.\u001b[39mset_visible_devices(gpus[\u001b[38;5;241m0\u001b[39m], \u001b[38;5;124m'\u001b[39m\u001b[38;5;124mGPU\u001b[39m\u001b[38;5;124m'\u001b[39m)\n\u001b[0;32m      6\u001b[0m   logical_gpus \u001b[38;5;241m=\u001b[39m tf\u001b[38;5;241m.\u001b[39mconfig\u001b[38;5;241m.\u001b[39mlist_logical_devices(\u001b[38;5;124m'\u001b[39m\u001b[38;5;124mGPU\u001b[39m\u001b[38;5;124m'\u001b[39m)\n\u001b[1;32m----> 7\u001b[0m   \u001b[43mtf\u001b[49m\u001b[38;5;241;43m.\u001b[39;49m\u001b[43mconfig\u001b[49m\u001b[38;5;241;43m.\u001b[39;49m\u001b[43mexperimental\u001b[49m\u001b[38;5;241;43m.\u001b[39;49m\u001b[43menable_growth\u001b[49m()\n\u001b[0;32m      8\u001b[0m   \u001b[38;5;28mprint\u001b[39m(\u001b[38;5;28mlen\u001b[39m(gpus), \u001b[38;5;124m\"\u001b[39m\u001b[38;5;124mPhysical GPUs,\u001b[39m\u001b[38;5;124m\"\u001b[39m, \u001b[38;5;28mlen\u001b[39m(logical_gpus), \u001b[38;5;124m\"\u001b[39m\u001b[38;5;124mLogical GPU\u001b[39m\u001b[38;5;124m\"\u001b[39m)\n\u001b[0;32m      9\u001b[0m \u001b[38;5;28;01mexcept\u001b[39;00m \u001b[38;5;167;01mRuntimeError\u001b[39;00m \u001b[38;5;28;01mas\u001b[39;00m e:\n\u001b[0;32m     10\u001b[0m   \u001b[38;5;66;03m# Visible devices must be set before GPUs have been initialized\u001b[39;00m\n",
            "\u001b[1;31mAttributeError\u001b[0m: module 'tensorflow._api.v2.config.experimental' has no attribute 'enable_growth'"
          ]
        }
      ],
      "source": [
        "gpus = tf.config.list_physical_devices('GPU')\n",
        "if gpus:\n",
        "  # Restrict TensorFlow to only use the first GPU\n",
        "  try:\n",
        "    tf.config.set_visible_devices(gpus[0], 'GPU')\n",
        "    logical_gpus = tf.config.list_logical_devices('GPU')\n",
        "    tf.config.experimental.enable_growth()\n",
        "    print(len(gpus), \"Physical GPUs,\", len(logical_gpus), \"Logical GPU\")\n",
        "  except RuntimeError as e:\n",
        "    # Visible devices must be set before GPUs have been initialized\n",
        "    print(e)"
      ]
    },
    {
      "cell_type": "code",
      "execution_count": null,
      "metadata": {},
      "outputs": [],
      "source": [
        "! python -c \"import tensorflow as tf; print(tf.config.list_physical_devices('GPU'))\""
      ]
    },
    {
      "cell_type": "code",
      "execution_count": 3,
      "metadata": {},
      "outputs": [
        {
          "data": {
            "text/plain": [
              "[PhysicalDevice(name='/physical_device:GPU:0', device_type='GPU')]"
            ]
          },
          "execution_count": 3,
          "metadata": {},
          "output_type": "execute_result"
        }
      ],
      "source": [
        "tf.config.list_physical_devices('GPU')"
      ]
    },
    {
      "cell_type": "code",
      "execution_count": null,
      "metadata": {},
      "outputs": [],
      "source": [
        "! nvidia-smi"
      ]
    },
    {
      "cell_type": "code",
      "execution_count": null,
      "metadata": {
        "colab": {
          "base_uri": "https://localhost:8080/"
        },
        "id": "CcAh4mfrU8cA",
        "outputId": "56c8570f-89cb-4157-86be-ec66d982a6d6"
      },
      "outputs": [],
      "source": [
        "# ! pip install kaggle\n",
        "# ! mkdir ~/.kaggle\n",
        "# ! cp kaggle.json ~/.kaggle/\n",
        "# ! chmod 600 ~/.kaggle/kaggle.json\n",
        "# ! kaggle datasets download paultimothymooney/chest-xray-pneumonia\n",
        "# ! unzip /content/chest-xray-pneumonia.zip"
      ]
    },
    {
      "cell_type": "markdown",
      "metadata": {
        "id": "C0j9F9lR2jgJ"
      },
      "source": [
        "# Project Notebook :)\n",
        "\n",
        "## Main ideas\n",
        "\n",
        "* time: 10.jan.2024 - 5.feb.2024\n",
        "* has to be simple\n",
        "* maybe somethings about biology\n",
        "\n",
        "### Objective\n",
        "\n",
        "Create a robust model that detects pediatric pnuemonia. By robust, I mean a model that isn't effected by rotations (like in [situs inversus](https://en.wikipedia.org/wiki/Situs_inversus), mirrored organs; or when a doctor may flip the x-ray picture), different brightness levels and other.\n",
        "\n",
        "I have downloaded a [chest x-ray ds](https://www.kaggle.com/datasets/paultimothymooney/chest-xray-pneumonia/data) that can be used to identify pneumonia patients.\n",
        "\n",
        "First I will create a simple CNN that can detedect the raw data from the ds. Then I would like to build on top of that by merging already trained NN (like ResNet101 or another, more specialized for medical/x-ray image classification) to create a model that generalizes better.\n",
        "\n",
        "**Objectives:**\n",
        "* [x] Wacth 2 lectures on NN testing and how to work with images\n",
        "\n",
        "**Main objectives**\n",
        "1. Load the data and create a simple CNN\n",
        "  1. [x] Load images\n",
        "  2. [x] Apply normalization\n",
        "  3. [x] Create a CNN and train it.\n",
        "  4. [ ] Discuss it\n",
        "2.\n",
        "\n",
        "\n",
        "\n",
        "\n"
      ]
    },
    {
      "cell_type": "markdown",
      "metadata": {
        "id": "-Lrtn5LJ8VeF"
      },
      "source": [
        "### Load data"
      ]
    },
    {
      "cell_type": "markdown",
      "metadata": {
        "id": "zo1GkfvmUne2"
      },
      "source": [
        "First I want to load my data from the mentioned ds. I will be using `tf.keras.utils.image_dataset_from_directory` to do so. The sets are split into 80/20 for training and vaidation. Another set has been separated beforehand for testing which has 624 images."
      ]
    },
    {
      "cell_type": "code",
      "execution_count": 16,
      "metadata": {
        "id": "ggBdRA4W8yJR"
      },
      "outputs": [],
      "source": [
        "DATA_PATH = \"../data/\"\n",
        "BATCH_SIZE = 16\n",
        "AUTOTUNE = tf.data.AUTOTUNE\n",
        "CLASS_NUM = 11\n",
        "IMG_SIZE = 128"
      ]
    },
    {
      "cell_type": "code",
      "execution_count": 17,
      "metadata": {
        "colab": {
          "base_uri": "https://localhost:8080/"
        },
        "id": "8B-MXxKR8-ig",
        "outputId": "732db610-fc4d-4e67-8670-068ca87189e8"
      },
      "outputs": [
        {
          "name": "stdout",
          "output_type": "stream",
          "text": [
            "Found 12210 files belonging to 11 classes.\n"
          ]
        }
      ],
      "source": [
        "data = tf.keras.utils.image_dataset_from_directory(DATA_PATH,\n",
        "                                                    batch_size = BATCH_SIZE,\n",
        "                                                    image_size = (IMG_SIZE, IMG_SIZE),\n",
        "                                                    shuffle = True,\n",
        "                                                    seed = 42)"
      ]
    },
    {
      "cell_type": "code",
      "execution_count": 18,
      "metadata": {
        "id": "oHi6GLf09Xl8"
      },
      "outputs": [],
      "source": [
        "TRAIN_SAMPLES = 100\n",
        "TEST_VAL_SAMPLES = np.round(TRAIN_SAMPLES * 0.2)\n",
        "\n",
        "train_set = data.take(TRAIN_SAMPLES)\n",
        "\n",
        "validation_set = data.skip(TRAIN_SAMPLES).take(TEST_VAL_SAMPLES)\n",
        "\n",
        "test_set = data.skip(TRAIN_SAMPLES).skip(TEST_VAL_SAMPLES)"
      ]
    },
    {
      "cell_type": "markdown",
      "metadata": {
        "id": "_-x2mffqVQuS"
      },
      "source": [
        "The model is constructed by 4 convolutional layers with valid padding. After every conv layer there is a pool layer to optimize training time.\n",
        "\n",
        "Flatten layer is used to feed the data into the dense layers at the end.\n",
        "\n",
        "We also rescale the pixels (`Rescaling(1./255)`) into range [0, 1] as a form of normalization.\n",
        "\n",
        "Hidden layers are using `relu` for activation since the function's efficiency and at the output I have set 'sigmod' for classification of 2 classes. Sigmoid is used since it gives a range of [0, 1] which can be used as a *probability* metric."
      ]
    },
    {
      "cell_type": "code",
      "execution_count": null,
      "metadata": {},
      "outputs": [],
      "source": [
        "class_counts = Counter()\n",
        "for images, labels in data:\n",
        "    # Extract the labels from the batch of labels\n",
        "    labels = labels.numpy()\n",
        "  \n",
        "    # Increment the count of each class label\n",
        "    for label in labels:\n",
        "        class_counts[label] += 1"
      ]
    },
    {
      "cell_type": "code",
      "execution_count": null,
      "metadata": {},
      "outputs": [],
      "source": [
        "class_counts"
      ]
    },
    {
      "cell_type": "code",
      "execution_count": null,
      "metadata": {},
      "outputs": [],
      "source": [
        "class_names = data.class_names\n",
        "x = []\n",
        "for el in class_counts.keys():\n",
        "    x.append(class_names[el])\n",
        "y = class_counts.values()"
      ]
    },
    {
      "cell_type": "code",
      "execution_count": null,
      "metadata": {},
      "outputs": [],
      "source": [
        "plt.figure(figsize= (20,5))\n",
        "plt.bar(x, y)\n",
        "\n",
        "\n",
        "plt.figure(figsize=(10, 10))\n",
        "# Access every img and label from the ds\n",
        "for images, labels in data.take(1):\n",
        "\n",
        "    #   \n",
        "    for i in range(9):\n",
        "        ax = plt.subplot(3, 3, i + 1)\n",
        "        plt.imshow(images[i].numpy().astype(\"uint8\"))\n",
        "        plt.title(class_names[labels[i]])\n",
        "        plt.axis(\"off\")\n",
        "        print(labels[i])\n",
        "        break\n",
        "\n",
        "    break"
      ]
    },
    {
      "cell_type": "code",
      "execution_count": 19,
      "metadata": {},
      "outputs": [],
      "source": [
        "tf.keras.backend.clear_session()"
      ]
    },
    {
      "cell_type": "code",
      "execution_count": 20,
      "metadata": {
        "id": "sidpMGi2_Eii"
      },
      "outputs": [
        {
          "name": "stdout",
          "output_type": "stream",
          "text": [
            "Epoch 1/100\n",
            "100/100 [==============================] - 8s 72ms/step - loss: 2.1995 - accuracy: 0.2313 - val_loss: 2.0731 - val_accuracy: 0.2875\n",
            "Epoch 2/100\n",
            "100/100 [==============================] - 7s 70ms/step - loss: 2.0910 - accuracy: 0.2525 - val_loss: 2.0972 - val_accuracy: 0.2719\n",
            "Epoch 3/100\n",
            "100/100 [==============================] - 7s 70ms/step - loss: 2.0837 - accuracy: 0.2781 - val_loss: 2.0414 - val_accuracy: 0.2969\n",
            "Epoch 4/100\n",
            "100/100 [==============================] - 8s 75ms/step - loss: 2.0531 - accuracy: 0.2856 - val_loss: 2.0834 - val_accuracy: 0.2812\n",
            "Epoch 5/100\n",
            "100/100 [==============================] - 9s 85ms/step - loss: 2.0271 - accuracy: 0.3137 - val_loss: 2.0517 - val_accuracy: 0.3063\n",
            "Epoch 6/100\n",
            "100/100 [==============================] - 7s 71ms/step - loss: 2.0473 - accuracy: 0.2962 - val_loss: 2.1636 - val_accuracy: 0.2562\n",
            "Epoch 7/100\n",
            "100/100 [==============================] - 7s 70ms/step - loss: 2.0188 - accuracy: 0.3075 - val_loss: 2.0704 - val_accuracy: 0.3063\n",
            "Epoch 8/100\n",
            "100/100 [==============================] - 7s 70ms/step - loss: 1.9723 - accuracy: 0.3225 - val_loss: 2.0845 - val_accuracy: 0.2812\n",
            "Epoch 9/100\n",
            "100/100 [==============================] - 7s 72ms/step - loss: 1.9423 - accuracy: 0.3288 - val_loss: 2.0606 - val_accuracy: 0.2937\n",
            "Epoch 10/100\n",
            "100/100 [==============================] - 7s 70ms/step - loss: 1.9263 - accuracy: 0.3350 - val_loss: 2.0772 - val_accuracy: 0.2937\n",
            "Epoch 11/100\n",
            "100/100 [==============================] - 7s 68ms/step - loss: 1.8787 - accuracy: 0.3506 - val_loss: 2.0790 - val_accuracy: 0.3219\n",
            "Epoch 12/100\n",
            "100/100 [==============================] - 7s 70ms/step - loss: 1.8529 - accuracy: 0.3537 - val_loss: 2.0899 - val_accuracy: 0.3313\n",
            "Epoch 13/100\n",
            "100/100 [==============================] - 7s 72ms/step - loss: 1.7817 - accuracy: 0.3681 - val_loss: 1.9580 - val_accuracy: 0.3531\n",
            "Epoch 14/100\n",
            "100/100 [==============================] - 7s 70ms/step - loss: 1.7522 - accuracy: 0.3562 - val_loss: 2.0349 - val_accuracy: 0.3500\n",
            "Epoch 15/100\n",
            "100/100 [==============================] - 7s 70ms/step - loss: 1.6957 - accuracy: 0.3819 - val_loss: 2.1410 - val_accuracy: 0.3219\n",
            "Epoch 16/100\n",
            "100/100 [==============================] - 7s 70ms/step - loss: 1.6337 - accuracy: 0.3869 - val_loss: 2.1028 - val_accuracy: 0.3531\n",
            "Epoch 17/100\n",
            "100/100 [==============================] - 8s 79ms/step - loss: 1.5860 - accuracy: 0.3931 - val_loss: 2.0308 - val_accuracy: 0.3406\n",
            "Epoch 18/100\n",
            "100/100 [==============================] - 8s 79ms/step - loss: 1.5253 - accuracy: 0.4087 - val_loss: 2.1535 - val_accuracy: 0.2937\n",
            "Epoch 19/100\n",
            "100/100 [==============================] - 8s 78ms/step - loss: 1.4441 - accuracy: 0.4350 - val_loss: 2.2179 - val_accuracy: 0.3531\n",
            "Epoch 20/100\n",
            "100/100 [==============================] - 7s 71ms/step - loss: 1.4301 - accuracy: 0.4206 - val_loss: 2.2232 - val_accuracy: 0.3562\n",
            "Epoch 21/100\n",
            "100/100 [==============================] - 8s 74ms/step - loss: 1.3450 - accuracy: 0.4563 - val_loss: 2.4339 - val_accuracy: 0.3063\n",
            "Epoch 22/100\n",
            "100/100 [==============================] - 7s 72ms/step - loss: 1.2712 - accuracy: 0.4794 - val_loss: 2.3363 - val_accuracy: 0.3531\n",
            "Epoch 23/100\n",
            "100/100 [==============================] - 7s 71ms/step - loss: 1.2672 - accuracy: 0.4913 - val_loss: 2.3901 - val_accuracy: 0.3344\n",
            "Epoch 24/100\n",
            "100/100 [==============================] - 8s 79ms/step - loss: 1.1830 - accuracy: 0.5350 - val_loss: 2.3168 - val_accuracy: 0.3313\n",
            "Epoch 25/100\n",
            "100/100 [==============================] - 8s 79ms/step - loss: 1.1560 - accuracy: 0.5387 - val_loss: 2.7855 - val_accuracy: 0.3406\n",
            "Epoch 26/100\n",
            "100/100 [==============================] - 8s 77ms/step - loss: 1.1112 - accuracy: 0.5556 - val_loss: 2.7274 - val_accuracy: 0.3313\n",
            "Epoch 27/100\n",
            "100/100 [==============================] - 8s 74ms/step - loss: 1.0378 - accuracy: 0.5738 - val_loss: 2.8563 - val_accuracy: 0.3438\n",
            "Epoch 28/100\n",
            "100/100 [==============================] - 8s 73ms/step - loss: 1.0201 - accuracy: 0.5900 - val_loss: 2.8844 - val_accuracy: 0.3625\n",
            "Epoch 29/100\n",
            "100/100 [==============================] - 8s 73ms/step - loss: 0.9827 - accuracy: 0.6187 - val_loss: 3.1124 - val_accuracy: 0.3344\n",
            "Epoch 30/100\n",
            "100/100 [==============================] - 8s 73ms/step - loss: 0.9535 - accuracy: 0.6206 - val_loss: 3.4160 - val_accuracy: 0.3844\n",
            "Epoch 31/100\n",
            "100/100 [==============================] - 8s 74ms/step - loss: 0.9265 - accuracy: 0.6300 - val_loss: 3.0070 - val_accuracy: 0.3500\n",
            "Epoch 32/100\n",
            "100/100 [==============================] - 8s 74ms/step - loss: 0.9155 - accuracy: 0.6456 - val_loss: 3.6527 - val_accuracy: 0.3875\n",
            "Epoch 33/100\n",
            "100/100 [==============================] - 8s 75ms/step - loss: 0.9183 - accuracy: 0.6369 - val_loss: 3.5579 - val_accuracy: 0.3906\n",
            "Epoch 34/100\n",
            "100/100 [==============================] - 8s 76ms/step - loss: 0.8436 - accuracy: 0.6731 - val_loss: 4.0310 - val_accuracy: 0.4000\n",
            "Epoch 35/100\n",
            "100/100 [==============================] - 8s 75ms/step - loss: 0.8828 - accuracy: 0.6488 - val_loss: 3.2717 - val_accuracy: 0.4219\n",
            "Epoch 36/100\n",
            "100/100 [==============================] - 8s 75ms/step - loss: 0.8181 - accuracy: 0.6675 - val_loss: 3.6614 - val_accuracy: 0.4219\n",
            "Epoch 37/100\n",
            "100/100 [==============================] - 8s 75ms/step - loss: 0.8355 - accuracy: 0.6913 - val_loss: 3.6486 - val_accuracy: 0.4125\n",
            "Epoch 38/100\n",
            "100/100 [==============================] - 8s 74ms/step - loss: 0.7937 - accuracy: 0.6862 - val_loss: 3.9160 - val_accuracy: 0.3969\n",
            "Epoch 39/100\n",
            "100/100 [==============================] - 8s 74ms/step - loss: 0.7894 - accuracy: 0.7044 - val_loss: 4.0155 - val_accuracy: 0.3969\n",
            "Epoch 40/100\n",
            "100/100 [==============================] - 8s 74ms/step - loss: 0.7755 - accuracy: 0.7094 - val_loss: 4.4273 - val_accuracy: 0.4125\n",
            "Epoch 41/100\n",
            "100/100 [==============================] - 8s 75ms/step - loss: 0.7639 - accuracy: 0.7075 - val_loss: 3.7047 - val_accuracy: 0.4281\n",
            "Epoch 42/100\n",
            "100/100 [==============================] - 8s 74ms/step - loss: 0.7425 - accuracy: 0.7131 - val_loss: 3.8371 - val_accuracy: 0.4156\n",
            "Epoch 43/100\n",
            "100/100 [==============================] - 8s 74ms/step - loss: 0.7554 - accuracy: 0.7056 - val_loss: 4.3742 - val_accuracy: 0.4000\n",
            "Epoch 44/100\n",
            "100/100 [==============================] - 8s 75ms/step - loss: 0.7624 - accuracy: 0.7088 - val_loss: 4.1179 - val_accuracy: 0.4062\n",
            "Epoch 45/100\n",
            "100/100 [==============================] - 8s 75ms/step - loss: 0.7327 - accuracy: 0.7194 - val_loss: 3.7957 - val_accuracy: 0.4469\n",
            "Epoch 46/100\n",
            "100/100 [==============================] - 8s 75ms/step - loss: 0.7333 - accuracy: 0.7281 - val_loss: 5.1215 - val_accuracy: 0.3969\n",
            "Epoch 47/100\n",
            "100/100 [==============================] - 8s 75ms/step - loss: 0.7127 - accuracy: 0.7269 - val_loss: 4.6101 - val_accuracy: 0.4406\n",
            "Epoch 48/100\n",
            "100/100 [==============================] - 8s 75ms/step - loss: 0.6836 - accuracy: 0.7275 - val_loss: 4.2951 - val_accuracy: 0.4281\n",
            "Epoch 49/100\n",
            "100/100 [==============================] - 8s 76ms/step - loss: 0.7241 - accuracy: 0.7287 - val_loss: 4.7710 - val_accuracy: 0.4094\n",
            "Epoch 50/100\n",
            "100/100 [==============================] - 8s 75ms/step - loss: 0.6465 - accuracy: 0.7519 - val_loss: 4.8351 - val_accuracy: 0.4500\n",
            "Epoch 51/100\n",
            "100/100 [==============================] - 8s 75ms/step - loss: 0.6797 - accuracy: 0.7481 - val_loss: 4.9203 - val_accuracy: 0.4594\n",
            "Epoch 52/100\n",
            "100/100 [==============================] - 8s 75ms/step - loss: 0.6484 - accuracy: 0.7525 - val_loss: 5.0703 - val_accuracy: 0.4406\n",
            "Epoch 53/100\n",
            "100/100 [==============================] - 8s 75ms/step - loss: 0.6278 - accuracy: 0.7556 - val_loss: 5.0632 - val_accuracy: 0.4563\n",
            "Epoch 54/100\n",
            "100/100 [==============================] - 8s 75ms/step - loss: 0.6779 - accuracy: 0.7519 - val_loss: 4.2406 - val_accuracy: 0.4250\n",
            "Epoch 55/100\n",
            "100/100 [==============================] - 8s 76ms/step - loss: 0.6416 - accuracy: 0.7531 - val_loss: 4.7820 - val_accuracy: 0.4313\n",
            "Epoch 56/100\n",
            "100/100 [==============================] - 8s 75ms/step - loss: 0.6353 - accuracy: 0.7513 - val_loss: 4.8632 - val_accuracy: 0.3938\n",
            "Epoch 57/100\n",
            "100/100 [==============================] - 8s 77ms/step - loss: 0.6418 - accuracy: 0.7563 - val_loss: 4.6689 - val_accuracy: 0.4344\n",
            "Epoch 58/100\n",
            "100/100 [==============================] - 8s 77ms/step - loss: 0.6330 - accuracy: 0.7600 - val_loss: 4.4668 - val_accuracy: 0.4094\n",
            "Epoch 59/100\n",
            "100/100 [==============================] - 8s 80ms/step - loss: 0.6316 - accuracy: 0.7575 - val_loss: 4.9309 - val_accuracy: 0.4219\n",
            "Epoch 60/100\n",
            "100/100 [==============================] - 8s 80ms/step - loss: 0.6191 - accuracy: 0.7600 - val_loss: 5.4930 - val_accuracy: 0.4563\n",
            "Epoch 61/100\n",
            "100/100 [==============================] - 8s 79ms/step - loss: 0.6431 - accuracy: 0.7606 - val_loss: 4.9686 - val_accuracy: 0.4281\n",
            "Epoch 62/100\n",
            "100/100 [==============================] - 8s 81ms/step - loss: 0.6057 - accuracy: 0.7694 - val_loss: 5.2279 - val_accuracy: 0.4406\n",
            "Epoch 63/100\n",
            "100/100 [==============================] - 8s 78ms/step - loss: 0.6014 - accuracy: 0.7837 - val_loss: 5.2020 - val_accuracy: 0.4187\n",
            "Epoch 64/100\n",
            "100/100 [==============================] - 9s 86ms/step - loss: 0.6151 - accuracy: 0.7688 - val_loss: 5.3661 - val_accuracy: 0.4187\n",
            "Epoch 65/100\n",
            "100/100 [==============================] - 8s 81ms/step - loss: 0.6374 - accuracy: 0.7631 - val_loss: 4.9536 - val_accuracy: 0.4031\n",
            "Epoch 66/100\n",
            "100/100 [==============================] - 8s 80ms/step - loss: 0.6218 - accuracy: 0.7656 - val_loss: 5.8922 - val_accuracy: 0.4563\n",
            "Epoch 67/100\n",
            "100/100 [==============================] - 9s 84ms/step - loss: 0.6266 - accuracy: 0.7663 - val_loss: 5.1376 - val_accuracy: 0.4250\n",
            "Epoch 68/100\n",
            "100/100 [==============================] - 8s 80ms/step - loss: 0.5933 - accuracy: 0.7719 - val_loss: 5.1998 - val_accuracy: 0.4594\n",
            "Epoch 69/100\n",
            "100/100 [==============================] - 8s 78ms/step - loss: 0.5765 - accuracy: 0.7812 - val_loss: 5.5266 - val_accuracy: 0.4563\n",
            "Epoch 70/100\n",
            "100/100 [==============================] - 8s 76ms/step - loss: 0.6023 - accuracy: 0.7850 - val_loss: 6.2180 - val_accuracy: 0.4625\n",
            "Epoch 71/100\n",
            "100/100 [==============================] - 8s 78ms/step - loss: 0.6381 - accuracy: 0.7738 - val_loss: 5.6690 - val_accuracy: 0.4688\n",
            "Epoch 72/100\n",
            "100/100 [==============================] - 8s 76ms/step - loss: 0.5652 - accuracy: 0.7912 - val_loss: 5.9377 - val_accuracy: 0.4531\n",
            "Epoch 73/100\n",
            "100/100 [==============================] - 8s 79ms/step - loss: 0.5741 - accuracy: 0.7887 - val_loss: 5.6386 - val_accuracy: 0.4844\n",
            "Epoch 74/100\n",
            "100/100 [==============================] - 8s 76ms/step - loss: 0.5817 - accuracy: 0.7856 - val_loss: 5.1413 - val_accuracy: 0.4625\n",
            "Epoch 75/100\n",
            "100/100 [==============================] - 8s 76ms/step - loss: 0.5572 - accuracy: 0.7900 - val_loss: 6.0269 - val_accuracy: 0.4719\n",
            "Epoch 76/100\n",
            "100/100 [==============================] - 8s 76ms/step - loss: 0.5702 - accuracy: 0.8000 - val_loss: 5.2236 - val_accuracy: 0.4375\n",
            "Epoch 77/100\n",
            "100/100 [==============================] - 8s 76ms/step - loss: 0.5887 - accuracy: 0.8025 - val_loss: 5.0325 - val_accuracy: 0.4719\n",
            "Epoch 78/100\n",
            "100/100 [==============================] - 8s 77ms/step - loss: 0.5981 - accuracy: 0.7825 - val_loss: 5.4086 - val_accuracy: 0.4406\n",
            "Epoch 79/100\n",
            "100/100 [==============================] - 8s 77ms/step - loss: 0.5889 - accuracy: 0.7894 - val_loss: 5.5740 - val_accuracy: 0.4625\n",
            "Epoch 80/100\n",
            "100/100 [==============================] - 8s 76ms/step - loss: 0.5545 - accuracy: 0.7937 - val_loss: 5.6599 - val_accuracy: 0.4656\n",
            "Epoch 81/100\n",
            "100/100 [==============================] - 8s 76ms/step - loss: 0.5690 - accuracy: 0.7925 - val_loss: 6.4184 - val_accuracy: 0.4781\n",
            "Epoch 82/100\n",
            "100/100 [==============================] - 8s 76ms/step - loss: 0.5464 - accuracy: 0.8075 - val_loss: 6.4216 - val_accuracy: 0.4375\n",
            "Epoch 83/100\n",
            "100/100 [==============================] - 8s 78ms/step - loss: 0.5403 - accuracy: 0.7981 - val_loss: 6.6695 - val_accuracy: 0.4969\n",
            "Epoch 84/100\n",
            "100/100 [==============================] - 8s 77ms/step - loss: 0.5046 - accuracy: 0.8056 - val_loss: 6.1753 - val_accuracy: 0.4625\n",
            "Epoch 85/100\n",
            "100/100 [==============================] - 8s 77ms/step - loss: 0.5385 - accuracy: 0.8131 - val_loss: 6.3933 - val_accuracy: 0.4719\n",
            "Epoch 86/100\n",
            "100/100 [==============================] - 8s 78ms/step - loss: 0.5278 - accuracy: 0.8131 - val_loss: 6.1436 - val_accuracy: 0.4750\n",
            "Epoch 87/100\n",
            "100/100 [==============================] - 8s 77ms/step - loss: 0.5132 - accuracy: 0.8150 - val_loss: 6.1727 - val_accuracy: 0.4719\n",
            "Epoch 88/100\n",
            "100/100 [==============================] - 8s 76ms/step - loss: 0.5555 - accuracy: 0.8069 - val_loss: 6.3729 - val_accuracy: 0.4719\n",
            "Epoch 89/100\n",
            "100/100 [==============================] - 8s 75ms/step - loss: 0.5735 - accuracy: 0.8119 - val_loss: 6.0031 - val_accuracy: 0.4812\n",
            "Epoch 90/100\n",
            "100/100 [==============================] - 8s 76ms/step - loss: 0.5403 - accuracy: 0.8050 - val_loss: 6.7710 - val_accuracy: 0.4750\n",
            "Epoch 91/100\n",
            "100/100 [==============================] - 8s 76ms/step - loss: 0.5339 - accuracy: 0.8087 - val_loss: 5.8461 - val_accuracy: 0.4000\n",
            "Epoch 92/100\n",
            "100/100 [==============================] - 8s 75ms/step - loss: 0.5552 - accuracy: 0.8037 - val_loss: 7.1422 - val_accuracy: 0.4625\n",
            "Epoch 93/100\n",
            "100/100 [==============================] - 8s 75ms/step - loss: 0.5430 - accuracy: 0.8025 - val_loss: 6.4875 - val_accuracy: 0.4844\n",
            "Epoch 94/100\n",
            "100/100 [==============================] - 8s 76ms/step - loss: 0.5598 - accuracy: 0.8062 - val_loss: 5.9729 - val_accuracy: 0.4844\n",
            "Epoch 95/100\n",
            "100/100 [==============================] - 8s 75ms/step - loss: 0.5168 - accuracy: 0.8188 - val_loss: 6.3256 - val_accuracy: 0.4750\n",
            "Epoch 96/100\n",
            "100/100 [==============================] - 8s 76ms/step - loss: 0.5338 - accuracy: 0.8156 - val_loss: 5.3557 - val_accuracy: 0.4500\n",
            "Epoch 97/100\n",
            "100/100 [==============================] - 8s 76ms/step - loss: 0.5286 - accuracy: 0.8225 - val_loss: 6.0008 - val_accuracy: 0.4563\n",
            "Epoch 98/100\n",
            "100/100 [==============================] - 8s 76ms/step - loss: 0.4862 - accuracy: 0.8300 - val_loss: 6.2398 - val_accuracy: 0.4844\n",
            "Epoch 99/100\n",
            "100/100 [==============================] - 8s 76ms/step - loss: 0.5263 - accuracy: 0.8150 - val_loss: 6.3424 - val_accuracy: 0.4719\n",
            "Epoch 100/100\n",
            "100/100 [==============================] - 8s 76ms/step - loss: 0.4764 - accuracy: 0.8344 - val_loss: 5.7465 - val_accuracy: 0.5156\n"
          ]
        },
        {
          "data": {
            "text/plain": [
              "<keras.callbacks.History at 0x1a92a69bd30>"
            ]
          },
          "execution_count": 20,
          "metadata": {},
          "output_type": "execute_result"
        }
      ],
      "source": [
        "model = Sequential([\n",
        "    Input(shape = (IMG_SIZE, IMG_SIZE, 3)),\n",
        "\n",
        "    Rescaling(1./255),\n",
        "\n",
        "    Conv2D(32, 3, padding = 'valid', activation = 'relu'),\n",
        "    MaxPool2D(),\n",
        "    Conv2D(16, 3, padding = 'valid', activation = 'relu'),\n",
        "    MaxPool2D(),\n",
        "\n",
        "    Flatten(),\n",
        "    Dense(32, activation = 'relu'),\n",
        "    Dropout(0.2),\n",
        "    Dense(32, activation = 'relu'),\n",
        "    Dense(16, activation = 'relu'),\n",
        "    # OUTPUT\n",
        "    Dense(CLASS_NUM, activation = 'softmax'),\n",
        "])\n",
        "\n",
        "model.compile(optimizer = 'adam', loss = 'sparse_categorical_crossentropy', metrics = ['accuracy'])\n",
        "\n",
        "model.fit(train_set, validation_data = validation_set, epochs = 100)"
      ]
    },
    {
      "cell_type": "code",
      "execution_count": 21,
      "metadata": {
        "colab": {
          "base_uri": "https://localhost:8080/"
        },
        "id": "hHE3d2fvFNfN",
        "outputId": "0f4b61eb-4981-4448-d9d4-7fab452b5142"
      },
      "outputs": [
        {
          "name": "stdout",
          "output_type": "stream",
          "text": [
            "100/100 [==============================] - 4s 35ms/step - loss: 0.2412 - accuracy: 0.9244\n"
          ]
        },
        {
          "data": {
            "text/plain": [
              "[0.24117989838123322, 0.9243749976158142]"
            ]
          },
          "execution_count": 21,
          "metadata": {},
          "output_type": "execute_result"
        }
      ],
      "source": [
        "model.evaluate(train_set)"
      ]
    },
    {
      "cell_type": "code",
      "execution_count": null,
      "metadata": {
        "id": "3ylcqSumOp1c"
      },
      "outputs": [],
      "source": [
        "model.save('pediatric_pneumonia_model_2.keras')"
      ]
    },
    {
      "cell_type": "code",
      "execution_count": null,
      "metadata": {},
      "outputs": [],
      "source": [
        "model.summary()"
      ]
    },
    {
      "cell_type": "markdown",
      "metadata": {
        "id": "_sOaoECcYS6V"
      },
      "source": [
        "#### Discussion\n",
        "\n",
        "The simple model (229 938 params) has test and val accuracy of 0.96, which is in the range of BOE but that doesn't mean it generalizes better. IRL images can have different brightness and slight rotations which throw off the NN.\n",
        "\n",
        "I would like now to train it with images with different brightness, rotations and horizontal positions. There are 2 options:\n",
        "\n",
        "Option 1 is to add random brightness, flip and rotation layers in the model's architecture.\n",
        "\n",
        "Option 2 is to upsample the data by simply having duplicates of images but with augmentations. This, I think, won't suffice since the model will be training on duplicates instead of single-cases.\n",
        "\n",
        "For this reason I will add augmentation layers to the model."
      ]
    },
    {
      "cell_type": "markdown",
      "metadata": {
        "id": "UPShiQyFcMAs"
      },
      "source": [
        "### CNN with image augmentations"
      ]
    },
    {
      "cell_type": "code",
      "execution_count": null,
      "metadata": {
        "id": "iWAmarF_c9Ei"
      },
      "outputs": [],
      "source": [
        "tf.keras.backend.clear_session()"
      ]
    },
    {
      "cell_type": "code",
      "execution_count": null,
      "metadata": {
        "id": "ZcIBruWudDkB"
      },
      "outputs": [],
      "source": []
    },
    {
      "cell_type": "code",
      "execution_count": null,
      "metadata": {
        "id": "PKUIxYhkdAii"
      },
      "outputs": [],
      "source": [
        "model = Sequential([\n",
        "    Resizing(IMG_SIZE)\n",
        "    Rescaling(1./255),\n",
        "\n",
        "    Conv2D(32, 3, padding = 'valid', activation = 'relu'),\n",
        "    MaxPool2D(),\n",
        "    Conv2D(32, 3, padding = 'valid', activation = 'relu'),\n",
        "    MaxPool2D(),\n",
        "\n",
        "    Conv2D(32, 3, padding = 'valid', activation = 'relu'),\n",
        "    MaxPool2D(),\n",
        "    Conv2D(32, 3, padding = 'valid', activation = 'relu'),\n",
        "    MaxPool2D(),\n",
        "\n",
        "    Flatten(),\n",
        "    Dense(32, activation = 'relu'),\n",
        "    Dense(16, activation = 'relu'),\n",
        "    Dense(CLASS_NUM, activation = 'sigmoid'),\n",
        "])"
      ]
    },
    {
      "cell_type": "code",
      "execution_count": null,
      "metadata": {},
      "outputs": [],
      "source": []
    }
  ],
  "metadata": {
    "accelerator": "GPU",
    "colab": {
      "authorship_tag": "ABX9TyPGkm+3q/oE2RyofRTB/FhT",
      "gpuType": "T4",
      "include_colab_link": true,
      "mount_file_id": "https://github.com/momchilgeorgiev/2023DL/blob/main/Project2024DL.ipynb",
      "provenance": []
    },
    "kernelspec": {
      "display_name": "Python 3",
      "name": "python3"
    },
    "language_info": {
      "codemirror_mode": {
        "name": "ipython",
        "version": 3
      },
      "file_extension": ".py",
      "mimetype": "text/x-python",
      "name": "python",
      "nbconvert_exporter": "python",
      "pygments_lexer": "ipython3",
      "version": "3.9.18"
    }
  },
  "nbformat": 4,
  "nbformat_minor": 0
}
