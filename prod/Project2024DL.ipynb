{
  "cells": [
    {
      "cell_type": "markdown",
      "metadata": {
        "colab_type": "text",
        "id": "view-in-github"
      },
      "source": [
        "<a href=\"https://colab.research.google.com/github/momchilgeorgiev/2023DL/blob/main/Project2024DL.ipynb\" target=\"_parent\"><img src=\"https://colab.research.google.com/assets/colab-badge.svg\" alt=\"Open In Colab\"/></a>"
      ]
    },
    {
      "cell_type": "code",
      "execution_count": 14,
      "metadata": {
        "id": "58mzllB218vi"
      },
      "outputs": [],
      "source": [
        "import tensorflow as tf\n",
        "from tensorflow.keras.layers import Dense, Input, Dropout, MaxPool2D, Conv2D, Flatten, Rescaling, Resizing\n",
        "from tensorflow.keras.models import Sequential, Model\n",
        "\n",
        "import matplotlib.pyplot as plt\n",
        "import numpy as np\n",
        "import pandas as pd"
      ]
    },
    {
      "cell_type": "code",
      "execution_count": 16,
      "metadata": {},
      "outputs": [
        {
          "data": {
            "text/plain": [
              "[]"
            ]
          },
          "execution_count": 16,
          "metadata": {},
          "output_type": "execute_result"
        }
      ],
      "source": [
        "tf.config.list_physical_devices('GPU')"
      ]
    },
    {
      "cell_type": "code",
      "execution_count": 6,
      "metadata": {
        "colab": {
          "base_uri": "https://localhost:8080/"
        },
        "id": "zg4BuzEwduZk",
        "outputId": "e2bb93a6-73f7-4ec5-e920-5a51af091c34"
      },
      "outputs": [
        {
          "name": "stdout",
          "output_type": "stream",
          "text": [
            "Sat Jan 13 23:46:43 2024       \n",
            "+---------------------------------------------------------------------------------------+\n",
            "| NVIDIA-SMI 546.33                 Driver Version: 546.33       CUDA Version: 12.3     |\n",
            "|-----------------------------------------+----------------------+----------------------+\n",
            "| GPU  Name                     TCC/WDDM  | Bus-Id        Disp.A | Volatile Uncorr. ECC |\n",
            "| Fan  Temp   Perf          Pwr:Usage/Cap |         Memory-Usage | GPU-Util  Compute M. |\n",
            "|                                         |                      |               MIG M. |\n",
            "|=========================================+======================+======================|\n",
            "|   0  NVIDIA GeForce GTX 1080      WDDM  | 00000000:02:00.0  On |                  N/A |\n",
            "|  0%   52C    P8              13W / 198W |   1506MiB /  8192MiB |      0%      Default |\n",
            "|                                         |                      |                  N/A |\n",
            "+-----------------------------------------+----------------------+----------------------+\n",
            "                                                                                         \n",
            "+---------------------------------------------------------------------------------------+\n",
            "| Processes:                                                                            |\n",
            "|  GPU   GI   CI        PID   Type   Process name                            GPU Memory |\n",
            "|        ID   ID                                                             Usage      |\n",
            "|=======================================================================================|\n",
            "|    0   N/A  N/A      1316    C+G   ...ekyb3d8bbwe\\PhoneExperienceHost.exe    N/A      |\n",
            "|    0   N/A  N/A      2004    C+G   ...b3d8bbwe\\Microsoft.Media.Player.exe    N/A      |\n",
            "|    0   N/A  N/A      2752    C+G   ...crosoft\\Edge\\Application\\msedge.exe    N/A      |\n",
            "|    0   N/A  N/A      3444    C+G   ...2txyewy\\StartMenuExperienceHost.exe    N/A      |\n",
            "|    0   N/A  N/A      4548    C+G   C:\\Windows\\explorer.exe                   N/A      |\n",
            "|    0   N/A  N/A      5820    C+G   ...werToys\\PowerToys.PowerLauncher.exe    N/A      |\n",
            "|    0   N/A  N/A      6024    C+G   ...ejd91yc\\AdobeNotificationClient.exe    N/A      |\n",
            "|    0   N/A  N/A      6308    C+G   ...werToys\\PowerToys.ColorPickerUI.exe    N/A      |\n",
            "|    0   N/A  N/A      6400    C+G   ...\\PowerToys\\PowerToys.FancyZones.exe    N/A      |\n",
            "|    0   N/A  N/A      6564    C+G   ...__8wekyb3d8bbwe\\WindowsTerminal.exe    N/A      |\n",
            "|    0   N/A  N/A      6972    C+G   ...Brave-Browser\\Application\\brave.exe    N/A      |\n",
            "|    0   N/A  N/A      7156    C+G   ...GeForce Experience\\NVIDIA Share.exe    N/A      |\n",
            "|    0   N/A  N/A      7264    C+G   ...CBS_cw5n1h2txyewy\\TextInputHost.exe    N/A      |\n",
            "|    0   N/A  N/A      7292    C+G   ....Search_cw5n1h2txyewy\\SearchApp.exe    N/A      |\n",
            "|    0   N/A  N/A      7332    C+G   ...\\cef\\cef.win7x64\\steamwebhelper.exe    N/A      |\n",
            "|    0   N/A  N/A      7396    C+G   ...ys\\WinUI3Apps\\PowerToys.Peek.UI.exe    N/A      |\n",
            "|    0   N/A  N/A      9996    C+G   ...5n1h2txyewy\\ShellExperienceHost.exe    N/A      |\n",
            "|    0   N/A  N/A     10036    C+G   ...cal\\Microsoft\\OneDrive\\OneDrive.exe    N/A      |\n",
            "|    0   N/A  N/A     10956    C+G   ...64__8wekyb3d8bbwe\\CalculatorApp.exe    N/A      |\n",
            "|    0   N/A  N/A     13788    C+G   ...Programs\\Microsoft VS Code\\Code.exe    N/A      |\n",
            "|    0   N/A  N/A     14860    C+G   ...siveControlPanel\\SystemSettings.exe    N/A      |\n",
            "|    0   N/A  N/A     16128    C+G   ...12.0_x64__8wekyb3d8bbwe\\GameBar.exe    N/A      |\n",
            "|    0   N/A  N/A     16160    C+G   ...1.0_x64__8wekyb3d8bbwe\\Video.UI.exe    N/A      |\n",
            "+---------------------------------------------------------------------------------------+\n"
          ]
        }
      ],
      "source": [
        "!nvidia-smi"
      ]
    },
    {
      "cell_type": "code",
      "execution_count": null,
      "metadata": {
        "colab": {
          "base_uri": "https://localhost:8080/"
        },
        "id": "CcAh4mfrU8cA",
        "outputId": "56c8570f-89cb-4157-86be-ec66d982a6d6"
      },
      "outputs": [
        {
          "name": "stdout",
          "output_type": "stream",
          "text": [
            "Requirement already satisfied: kaggle in /usr/local/lib/python3.10/dist-packages (1.5.16)\n",
            "Requirement already satisfied: six>=1.10 in /usr/local/lib/python3.10/dist-packages (from kaggle) (1.16.0)\n",
            "Requirement already satisfied: certifi in /usr/local/lib/python3.10/dist-packages (from kaggle) (2023.11.17)\n",
            "Requirement already satisfied: python-dateutil in /usr/local/lib/python3.10/dist-packages (from kaggle) (2.8.2)\n",
            "Requirement already satisfied: requests in /usr/local/lib/python3.10/dist-packages (from kaggle) (2.31.0)\n",
            "Requirement already satisfied: tqdm in /usr/local/lib/python3.10/dist-packages (from kaggle) (4.66.1)\n",
            "Requirement already satisfied: python-slugify in /usr/local/lib/python3.10/dist-packages (from kaggle) (8.0.1)\n",
            "Requirement already satisfied: urllib3 in /usr/local/lib/python3.10/dist-packages (from kaggle) (2.0.7)\n",
            "Requirement already satisfied: bleach in /usr/local/lib/python3.10/dist-packages (from kaggle) (6.1.0)\n",
            "Requirement already satisfied: webencodings in /usr/local/lib/python3.10/dist-packages (from bleach->kaggle) (0.5.1)\n",
            "Requirement already satisfied: text-unidecode>=1.3 in /usr/local/lib/python3.10/dist-packages (from python-slugify->kaggle) (1.3)\n",
            "Requirement already satisfied: charset-normalizer<4,>=2 in /usr/local/lib/python3.10/dist-packages (from requests->kaggle) (3.3.2)\n",
            "Requirement already satisfied: idna<4,>=2.5 in /usr/local/lib/python3.10/dist-packages (from requests->kaggle) (3.6)\n",
            "cp: cannot stat 'kaggle.json': No such file or directory\n",
            "chmod: cannot access '/root/.kaggle/kaggle.json': No such file or directory\n",
            "Traceback (most recent call last):\n",
            "  File \"/usr/local/bin/kaggle\", line 5, in <module>\n",
            "    from kaggle.cli import main\n",
            "  File \"/usr/local/lib/python3.10/dist-packages/kaggle/__init__.py\", line 23, in <module>\n",
            "    api.authenticate()\n",
            "  File \"/usr/local/lib/python3.10/dist-packages/kaggle/api/kaggle_api_extended.py\", line 403, in authenticate\n",
            "    raise IOError('Could not find {}. Make sure it\\'s located in'\n",
            "OSError: Could not find kaggle.json. Make sure it's located in /root/.kaggle. Or use the environment method.\n",
            "unzip:  cannot find or open /content/chest-xray-pneumonia.zip, /content/chest-xray-pneumonia.zip.zip or /content/chest-xray-pneumonia.zip.ZIP.\n"
          ]
        }
      ],
      "source": [
        "! pip install kaggle\n",
        "! mkdir ~/.kaggle\n",
        "! cp kaggle.json ~/.kaggle/\n",
        "! chmod 600 ~/.kaggle/kaggle.json\n",
        "! kaggle datasets download paultimothymooney/chest-xray-pneumonia\n",
        "! unzip /content/chest-xray-pneumonia.zip"
      ]
    },
    {
      "cell_type": "markdown",
      "metadata": {
        "id": "C0j9F9lR2jgJ"
      },
      "source": [
        "# Project Notebook :)\n",
        "\n",
        "## Main ideas\n",
        "\n",
        "* time: 10.jan.2024 - 5.feb.2024\n",
        "* has to be simple\n",
        "* maybe somethings about biology\n",
        "\n",
        "### Objective\n",
        "\n",
        "Create a robust model that detects pediatric pnuemonia. By robust, I mean a model that isn't effected by rotations (like in [situs inversus](https://en.wikipedia.org/wiki/Situs_inversus), mirrored organs; or when a doctor may flip the x-ray picture), different brightness levels and other.\n",
        "\n",
        "I have downloaded a [chest x-ray ds](https://www.kaggle.com/datasets/paultimothymooney/chest-xray-pneumonia/data) that can be used to identify pneumonia patients.\n",
        "\n",
        "First I will create a simple CNN that can detedect the raw data from the ds. Then I would like to build on top of that by merging already trained NN (like ResNet101 or another, more specialized for medical/x-ray image classification) to create a model that generalizes better.\n",
        "\n",
        "**Objectives:**\n",
        "* [x] Wacth 2 lectures on NN testing and how to work with images\n",
        "\n",
        "**Main objectives**\n",
        "1. Load the data and create a simple CNN\n",
        "  1. [x] Load images\n",
        "  2. [x] Apply normalization\n",
        "  3. [x] Create a CNN and train it.\n",
        "  4. [ ] Discuss it\n",
        "2.\n",
        "\n",
        "\n",
        "\n",
        "\n"
      ]
    },
    {
      "cell_type": "markdown",
      "metadata": {
        "id": "-Lrtn5LJ8VeF"
      },
      "source": [
        "### Load data"
      ]
    },
    {
      "cell_type": "markdown",
      "metadata": {
        "id": "zo1GkfvmUne2"
      },
      "source": [
        "First I want to load my data from the mentioned ds. I will be using `tf.keras.utils.image_dataset_from_directory` to do so. The sets are split into 80/20 for training and vaidation. Another set has been separated beforehand for testing which has 624 images."
      ]
    },
    {
      "cell_type": "code",
      "execution_count": 7,
      "metadata": {
        "id": "ggBdRA4W8yJR"
      },
      "outputs": [],
      "source": [
        "TRAIN_PATH = \"./train/\"\n",
        "TEST_PATH = \"./test\"\n",
        "AUTOTUNE = tf.data.AUTOTUNE"
      ]
    },
    {
      "cell_type": "code",
      "execution_count": 8,
      "metadata": {
        "colab": {
          "base_uri": "https://localhost:8080/"
        },
        "id": "8B-MXxKR8-ig",
        "outputId": "732db610-fc4d-4e67-8670-068ca87189e8"
      },
      "outputs": [
        {
          "name": "stdout",
          "output_type": "stream",
          "text": [
            "Found 5216 files belonging to 2 classes.\n",
            "Using 4173 files for training.\n",
            "Found 5216 files belonging to 2 classes.\n",
            "Using 1043 files for validation.\n",
            "Found 624 files belonging to 2 classes.\n"
          ]
        }
      ],
      "source": [
        "train_ds = tf.keras.utils.image_dataset_from_directory(TRAIN_PATH, validation_split = 0.2, subset = 'training', seed = 42)\n",
        "val_ds = tf.keras.utils.image_dataset_from_directory(TRAIN_PATH, validation_split = 0.2, subset = 'validation', seed = 42)\n",
        "test_ds = tf.keras.utils.image_dataset_from_directory(TEST_PATH, seed = 42)\n"
      ]
    },
    {
      "cell_type": "markdown",
      "metadata": {
        "id": "ynmgW-UTVHGn"
      },
      "source": [
        "Here I set the number of classes we would use for the output and also using `.cache` to optimize loading."
      ]
    },
    {
      "cell_type": "code",
      "execution_count": 9,
      "metadata": {
        "id": "oHi6GLf09Xl8"
      },
      "outputs": [],
      "source": [
        "CLASS_NUM = 2\n",
        "train_ds = train_ds.cache().prefetch(buffer_size=AUTOTUNE)\n",
        "val_ds = val_ds.cache().prefetch(buffer_size=AUTOTUNE)"
      ]
    },
    {
      "cell_type": "code",
      "execution_count": 10,
      "metadata": {
        "id": "QBtOJ1apBXIP"
      },
      "outputs": [],
      "source": [
        "tf.keras.backend.clear_session()"
      ]
    },
    {
      "cell_type": "markdown",
      "metadata": {
        "id": "_-x2mffqVQuS"
      },
      "source": [
        "The model is constructed by 4 convolutional layers with valid padding. After every conv layer there is a pool layer to optimize training time.\n",
        "\n",
        "Flatten layer is used to feed the data into the dense layers at the end.\n",
        "\n",
        "We also rescale the pixels (`Rescaling(1./255)`) into range [0, 1] as a form of normalization.\n",
        "\n",
        "Hidden layers are using `relu` for activation since the function's efficiency and at the output I have set 'sigmod' for classification of 2 classes. Sigmoid is used since it gives a range of [0, 1] which can be used as a *probability* metric."
      ]
    },
    {
      "cell_type": "code",
      "execution_count": 11,
      "metadata": {
        "id": "sidpMGi2_Eii"
      },
      "outputs": [],
      "source": [
        "model = Sequential([\n",
        "\n",
        "    Rescaling(1./255),\n",
        "\n",
        "    Conv2D(32, 3, padding = 'valid', activation = 'relu'),\n",
        "    MaxPool2D(),\n",
        "    Conv2D(32, 3, padding = 'valid', activation = 'relu'),\n",
        "    MaxPool2D(),\n",
        "\n",
        "    Conv2D(32, 3, padding = 'valid', activation = 'relu'),\n",
        "    MaxPool2D(),\n",
        "    Conv2D(32, 3, padding = 'valid', activation = 'relu'),\n",
        "    MaxPool2D(),\n",
        "\n",
        "    Flatten(),\n",
        "    Dense(32, activation = 'relu'),\n",
        "    Dense(16, activation = 'relu'),\n",
        "    Dense(CLASS_NUM, activation = 'sigmoid'),\n",
        "])"
      ]
    },
    {
      "cell_type": "code",
      "execution_count": 14,
      "metadata": {
        "colab": {
          "base_uri": "https://localhost:8080/"
        },
        "id": "8M-WMhGsUOE7",
        "outputId": "ffb715df-3d36-4132-c5f0-91b194a5a634"
      },
      "outputs": [
        {
          "name": "stdout",
          "output_type": "stream",
          "text": [
            "Model: \"sequential\"\n",
            "_________________________________________________________________\n",
            " Layer (type)                Output Shape              Param #   \n",
            "=================================================================\n",
            " rescaling (Rescaling)       (None, 256, 256, 3)       0         \n",
            "                                                                 \n",
            " conv2d (Conv2D)             (None, 254, 254, 32)      896       \n",
            "                                                                 \n",
            " max_pooling2d (MaxPooling2  (None, 127, 127, 32)      0         \n",
            " D)                                                              \n",
            "                                                                 \n",
            " conv2d_1 (Conv2D)           (None, 125, 125, 32)      9248      \n",
            "                                                                 \n",
            " max_pooling2d_1 (MaxPoolin  (None, 62, 62, 32)        0         \n",
            " g2D)                                                            \n",
            "                                                                 \n",
            " conv2d_2 (Conv2D)           (None, 60, 60, 32)        9248      \n",
            "                                                                 \n",
            " max_pooling2d_2 (MaxPoolin  (None, 30, 30, 32)        0         \n",
            " g2D)                                                            \n",
            "                                                                 \n",
            " conv2d_3 (Conv2D)           (None, 28, 28, 32)        9248      \n",
            "                                                                 \n",
            " max_pooling2d_3 (MaxPoolin  (None, 14, 14, 32)        0         \n",
            " g2D)                                                            \n",
            "                                                                 \n",
            " flatten (Flatten)           (None, 6272)              0         \n",
            "                                                                 \n",
            " dense (Dense)               (None, 32)                200736    \n",
            "                                                                 \n",
            " dense_1 (Dense)             (None, 16)                528       \n",
            "                                                                 \n",
            " dense_2 (Dense)             (None, 2)                 34        \n",
            "                                                                 \n",
            "=================================================================\n",
            "Total params: 229938 (898.20 KB)\n",
            "Trainable params: 229938 (898.20 KB)\n",
            "Non-trainable params: 0 (0.00 Byte)\n",
            "_________________________________________________________________\n"
          ]
        }
      ],
      "source": [
        "model.summary()"
      ]
    },
    {
      "cell_type": "code",
      "execution_count": 12,
      "metadata": {
        "id": "alTBZDN7Ax3S"
      },
      "outputs": [],
      "source": [
        "model.compile(optimizer = 'adam', loss = 'sparse_categorical_crossentropy', metrics = ['accuracy'])"
      ]
    },
    {
      "cell_type": "markdown",
      "metadata": {
        "id": "6BUKwIGiYBcW"
      },
      "source": [
        "Fit the model. Epochs are 3, because during testing, this number of epochs created sufficient results (val_accuracy >= 0.9)"
      ]
    },
    {
      "cell_type": "code",
      "execution_count": 13,
      "metadata": {
        "colab": {
          "base_uri": "https://localhost:8080/"
        },
        "id": "v6-MkU1YA_Wc",
        "outputId": "8bb3e54b-7f03-4207-b6c7-1ba16ab02d48"
      },
      "outputs": [
        {
          "name": "stdout",
          "output_type": "stream",
          "text": [
            "Epoch 1/3\n",
            "131/131 [==============================] - 112s 818ms/step - loss: 0.3794 - accuracy: 0.8212 - val_loss: 0.2490 - val_accuracy: 0.9012\n",
            "Epoch 2/3\n",
            "131/131 [==============================] - 92s 703ms/step - loss: 0.1399 - accuracy: 0.9461 - val_loss: 0.1121 - val_accuracy: 0.9645\n",
            "Epoch 3/3\n",
            "131/131 [==============================] - 94s 716ms/step - loss: 0.0920 - accuracy: 0.9708 - val_loss: 0.1071 - val_accuracy: 0.9693\n"
          ]
        },
        {
          "data": {
            "text/plain": [
              "<keras.src.callbacks.History at 0x1b7d5e33f10>"
            ]
          },
          "execution_count": 13,
          "metadata": {},
          "output_type": "execute_result"
        }
      ],
      "source": [
        "model.fit(train_ds, validation_data = val_ds, epochs = 3)"
      ]
    },
    {
      "cell_type": "code",
      "execution_count": 13,
      "metadata": {
        "colab": {
          "base_uri": "https://localhost:8080/"
        },
        "id": "hHE3d2fvFNfN",
        "outputId": "0f4b61eb-4981-4448-d9d4-7fab452b5142"
      },
      "outputs": [
        {
          "name": "stdout",
          "output_type": "stream",
          "text": [
            "131/131 [==============================] - 21s 163ms/step - loss: 0.0718 - accuracy: 0.9736\n"
          ]
        },
        {
          "data": {
            "text/plain": [
              "[0.07176674157381058, 0.9736400842666626]"
            ]
          },
          "execution_count": 13,
          "metadata": {},
          "output_type": "execute_result"
        }
      ],
      "source": [
        "model.evaluate(train_ds)"
      ]
    },
    {
      "cell_type": "code",
      "execution_count": 12,
      "metadata": {
        "id": "3ylcqSumOp1c"
      },
      "outputs": [],
      "source": [
        "model.save('pediatric_pneumonia_model_1.keras')"
      ]
    },
    {
      "cell_type": "markdown",
      "metadata": {
        "id": "_sOaoECcYS6V"
      },
      "source": [
        "#### Discussion\n",
        "\n",
        "The simple model (229 938 params) has test and val accuracy of 0.96, which is in the range of BOE but that doesn't mean it generalizes better. IRL images can have different brightness and slight rotations which throw off the NN.\n",
        "\n",
        "I would like now to train it with images with different brightness, rotations and horizontal positions. There are 2 options:\n",
        "\n",
        "Option 1 is to add random brightness, flip and rotation layers in the model's architecture.\n",
        "\n",
        "Option 2 is to upsample the data by simply having duplicates of images but with augmentations. This, I think, won't suffice since the model will be training on duplicates instead of single-cases.\n",
        "\n",
        "For this reason I will add augmentation layers to the model."
      ]
    },
    {
      "cell_type": "markdown",
      "metadata": {
        "id": "UPShiQyFcMAs"
      },
      "source": [
        "### CNN with image augmentations"
      ]
    },
    {
      "cell_type": "code",
      "execution_count": null,
      "metadata": {
        "id": "iWAmarF_c9Ei"
      },
      "outputs": [],
      "source": [
        "tf.keras.backend.clear_session()"
      ]
    },
    {
      "cell_type": "code",
      "execution_count": null,
      "metadata": {
        "id": "ZcIBruWudDkB"
      },
      "outputs": [],
      "source": [
        "IMG_SIZE = 128"
      ]
    },
    {
      "cell_type": "code",
      "execution_count": null,
      "metadata": {
        "id": "PKUIxYhkdAii"
      },
      "outputs": [],
      "source": [
        "model = Sequential([\n",
        "    Resizing(IMG_SIZE)\n",
        "    Rescaling(1./255),\n",
        "\n",
        "    Conv2D(32, 3, padding = 'valid', activation = 'relu'),\n",
        "    MaxPool2D(),\n",
        "    Conv2D(32, 3, padding = 'valid', activation = 'relu'),\n",
        "    MaxPool2D(),\n",
        "\n",
        "    Conv2D(32, 3, padding = 'valid', activation = 'relu'),\n",
        "    MaxPool2D(),\n",
        "    Conv2D(32, 3, padding = 'valid', activation = 'relu'),\n",
        "    MaxPool2D(),\n",
        "\n",
        "    Flatten(),\n",
        "    Dense(32, activation = 'relu'),\n",
        "    Dense(16, activation = 'relu'),\n",
        "    Dense(CLASS_NUM, activation = 'sigmoid'),\n",
        "])"
      ]
    },
    {
      "cell_type": "code",
      "execution_count": 10,
      "metadata": {},
      "outputs": [
        {
          "data": {
            "text/plain": [
              "[]"
            ]
          },
          "execution_count": 10,
          "metadata": {},
          "output_type": "execute_result"
        }
      ],
      "source": []
    }
  ],
  "metadata": {
    "accelerator": "GPU",
    "colab": {
      "authorship_tag": "ABX9TyPGkm+3q/oE2RyofRTB/FhT",
      "gpuType": "T4",
      "include_colab_link": true,
      "mount_file_id": "https://github.com/momchilgeorgiev/2023DL/blob/main/Project2024DL.ipynb",
      "provenance": []
    },
    "kernelspec": {
      "display_name": "Python 3",
      "name": "python3"
    },
    "language_info": {
      "codemirror_mode": {
        "name": "ipython",
        "version": 3
      },
      "file_extension": ".py",
      "mimetype": "text/x-python",
      "name": "python",
      "nbconvert_exporter": "python",
      "pygments_lexer": "ipython3",
      "version": "3.11.4"
    }
  },
  "nbformat": 4,
  "nbformat_minor": 0
}
