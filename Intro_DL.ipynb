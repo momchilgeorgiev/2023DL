{
  "nbformat": 4,
  "nbformat_minor": 0,
  "metadata": {
    "colab": {
      "provenance": [],
      "gpuType": "T4",
      "collapsed_sections": [
        "sQBdsJyvSn0D",
        "IJVSIKmHSAkn",
        "cRjIwy1bjQk5"
      ],
      "authorship_tag": "ABX9TyO1WBjLLu5dkvAErqzfElv4",
      "include_colab_link": true
    },
    "kernelspec": {
      "name": "python3",
      "display_name": "Python 3"
    },
    "language_info": {
      "name": "python"
    },
    "accelerator": "GPU"
  },
  "cells": [
    {
      "cell_type": "markdown",
      "metadata": {
        "id": "view-in-github",
        "colab_type": "text"
      },
      "source": [
        "<a href=\"https://colab.research.google.com/github/momchilgeorgiev/2023DL/blob/main/Intro_DL.ipynb\" target=\"_parent\"><img src=\"https://colab.research.google.com/assets/colab-badge.svg\" alt=\"Open In Colab\"/></a>"
      ]
    },
    {
      "cell_type": "markdown",
      "source": [
        "# Intro to Deep Learning\n",
        "***"
      ],
      "metadata": {
        "id": "g_3yc1b1RyWI"
      }
    },
    {
      "cell_type": "code",
      "source": [
        "# Main libraries:\n",
        "\n",
        "import tensorflow as tf\n",
        "from tensorflow.keras.layers import Dense, Input\n",
        "\n",
        "import numpy as np\n",
        "import matplotlib.pyplot as plt\n",
        "import pandas as pd\n",
        "\n",
        "from sklearn.datasets import load_iris"
      ],
      "metadata": {
        "id": "L5g2x-0fTl-K"
      },
      "execution_count": 2,
      "outputs": []
    },
    {
      "cell_type": "markdown",
      "source": [
        "### 1. Tf setup:"
      ],
      "metadata": {
        "id": "sQBdsJyvSn0D"
      }
    },
    {
      "cell_type": "code",
      "execution_count": 3,
      "metadata": {
        "id": "7NmEl5Sc0aqa",
        "colab": {
          "base_uri": "https://localhost:8080/"
        },
        "outputId": "7272fd1e-e053-40d1-9ac8-d358d6860aec"
      },
      "outputs": [
        {
          "output_type": "stream",
          "name": "stdout",
          "text": [
            "Tue Jan  9 14:47:48 2024       \n",
            "+---------------------------------------------------------------------------------------+\n",
            "| NVIDIA-SMI 535.104.05             Driver Version: 535.104.05   CUDA Version: 12.2     |\n",
            "|-----------------------------------------+----------------------+----------------------+\n",
            "| GPU  Name                 Persistence-M | Bus-Id        Disp.A | Volatile Uncorr. ECC |\n",
            "| Fan  Temp   Perf          Pwr:Usage/Cap |         Memory-Usage | GPU-Util  Compute M. |\n",
            "|                                         |                      |               MIG M. |\n",
            "|=========================================+======================+======================|\n",
            "|   0  Tesla T4                       Off | 00000000:00:04.0 Off |                    0 |\n",
            "| N/A   49C    P8              10W /  70W |      0MiB / 15360MiB |      0%      Default |\n",
            "|                                         |                      |                  N/A |\n",
            "+-----------------------------------------+----------------------+----------------------+\n",
            "                                                                                         \n",
            "+---------------------------------------------------------------------------------------+\n",
            "| Processes:                                                                            |\n",
            "|  GPU   GI   CI        PID   Type   Process name                            GPU Memory |\n",
            "|        ID   ID                                                             Usage      |\n",
            "|=======================================================================================|\n",
            "|  No running processes found                                                           |\n",
            "+---------------------------------------------------------------------------------------+\n"
          ]
        }
      ],
      "source": [
        "!nvidia-smi"
      ]
    },
    {
      "cell_type": "code",
      "source": [
        "gpu = tf.config.list_physical_devices(\"GPU\")[0]"
      ],
      "metadata": {
        "id": "TWqhw4Xo1XDf"
      },
      "execution_count": 4,
      "outputs": []
    },
    {
      "cell_type": "code",
      "source": [
        "tf.config.experimental.set_memory_growth(gpu, True) # Uses minimal memory. If more is needed it takes more!"
      ],
      "metadata": {
        "id": "4sMkTqcp2o3K"
      },
      "execution_count": 5,
      "outputs": []
    },
    {
      "cell_type": "markdown",
      "source": [
        "### 2. Computing graphs with tf\n",
        "\n",
        "Since tensor flow uses graphs to represent objects, we need to define our variables:"
      ],
      "metadata": {
        "id": "IJVSIKmHSAkn"
      }
    },
    {
      "cell_type": "code",
      "source": [
        "a = tf.constant(2)\n",
        "b = tf.constant(3)"
      ],
      "metadata": {
        "id": "MjUhvjFZPIkU"
      },
      "execution_count": 6,
      "outputs": []
    },
    {
      "cell_type": "markdown",
      "source": [
        "To compute (2 * a + 3 * b)^2 we can try writing a function since everything is a graph:"
      ],
      "metadata": {
        "id": "QkNUV0cPP7RH"
      }
    },
    {
      "cell_type": "code",
      "source": [
        "def compute(a, b):\n",
        "  return tf.pow(\n",
        "      tf.add(\n",
        "          tf.multiply(2, a),\n",
        "          tf.multiply(3, b)\n",
        "      ), 2\n",
        "  )"
      ],
      "metadata": {
        "id": "Sr7iIvW4PMus"
      },
      "execution_count": 7,
      "outputs": []
    },
    {
      "cell_type": "code",
      "source": [
        "compute(a, b)"
      ],
      "metadata": {
        "colab": {
          "base_uri": "https://localhost:8080/"
        },
        "id": "Oynp0M99PVgj",
        "outputId": "94c47996-8dd6-45ac-a35c-b37c78ef1557"
      },
      "execution_count": 8,
      "outputs": [
        {
          "output_type": "execute_result",
          "data": {
            "text/plain": [
              "<tf.Tensor: shape=(), dtype=int32, numpy=169>"
            ]
          },
          "metadata": {},
          "execution_count": 8
        }
      ]
    },
    {
      "cell_type": "markdown",
      "source": [
        "Alternatively we can use numpy/standard operations:\n"
      ],
      "metadata": {
        "id": "85BiJKszQebA"
      }
    },
    {
      "cell_type": "code",
      "source": [
        "def compute_normal(a, b):\n",
        "  return (2 * a + 3 * b) ** 2"
      ],
      "metadata": {
        "id": "9LeVgD-cQsyt"
      },
      "execution_count": 9,
      "outputs": []
    },
    {
      "cell_type": "code",
      "source": [
        "compute_normal(a, b)"
      ],
      "metadata": {
        "colab": {
          "base_uri": "https://localhost:8080/"
        },
        "id": "wg0y66PqQ0b8",
        "outputId": "19366120-1ddb-43ed-df14-b68e00f4f43d"
      },
      "execution_count": 10,
      "outputs": [
        {
          "output_type": "execute_result",
          "data": {
            "text/plain": [
              "<tf.Tensor: shape=(), dtype=int32, numpy=169>"
            ]
          },
          "metadata": {},
          "execution_count": 10
        }
      ]
    },
    {
      "cell_type": "markdown",
      "source": [
        "### 3. Linear models\n",
        "\n"
      ],
      "metadata": {
        "id": "UihcRjuzSsT8"
      }
    },
    {
      "cell_type": "markdown",
      "source": [
        "Load data:"
      ],
      "metadata": {
        "id": "WAmZ8yFjiEkE"
      }
    },
    {
      "cell_type": "code",
      "source": [
        "from sklearn.datasets import load_iris"
      ],
      "metadata": {
        "id": "Y0Lty5zTS2_G"
      },
      "execution_count": 11,
      "outputs": []
    },
    {
      "cell_type": "code",
      "source": [
        "iris = load_iris()\n",
        "attributes, labels = iris.data, iris.target"
      ],
      "metadata": {
        "id": "rGJboMINS-bj"
      },
      "execution_count": 12,
      "outputs": []
    },
    {
      "cell_type": "markdown",
      "source": [
        "One hot encode the labels and get the number of classes for the next step which is setting up the NN:"
      ],
      "metadata": {
        "id": "QwXYqvKKiIrh"
      }
    },
    {
      "cell_type": "code",
      "source": [
        "number_of_classes = np.unique(iris.target).shape[0]\n",
        "labels_ohe = tf.one_hot(labels, depth = number_of_classes)"
      ],
      "metadata": {
        "id": "sISaTXWtTHsw"
      },
      "execution_count": 13,
      "outputs": []
    },
    {
      "cell_type": "markdown",
      "source": [
        "We want to create a linear regression for our 3 classes. For that we'll need one dense layer for every class. We use softmax as an acivation function:\n",
        "\n",
        "> Check types of layers (dense, input, output and so-on)"
      ],
      "metadata": {
        "id": "oUxUhQ3FiRYx"
      }
    },
    {
      "cell_type": "code",
      "source": [
        "model = tf.keras.models.Sequential([\n",
        "    tf.keras.Input(shape = (4,)),\n",
        "    tf.keras.layers.Dense(3, activation = \"softmax\")\n",
        "\n",
        "])"
      ],
      "metadata": {
        "id": "SVkbxDxhTXNA"
      },
      "execution_count": 14,
      "outputs": []
    },
    {
      "cell_type": "code",
      "source": [
        "model.summary()"
      ],
      "metadata": {
        "colab": {
          "base_uri": "https://localhost:8080/"
        },
        "id": "Ltq-eBZsY23C",
        "outputId": "aa30bc9a-dbf9-4efc-e5d1-384bd71cbb4d"
      },
      "execution_count": 15,
      "outputs": [
        {
          "output_type": "stream",
          "name": "stdout",
          "text": [
            "Model: \"sequential\"\n",
            "_________________________________________________________________\n",
            " Layer (type)                Output Shape              Param #   \n",
            "=================================================================\n",
            " dense (Dense)               (None, 3)                 15        \n",
            "                                                                 \n",
            "=================================================================\n",
            "Total params: 15 (60.00 Byte)\n",
            "Trainable params: 15 (60.00 Byte)\n",
            "Non-trainable params: 0 (0.00 Byte)\n",
            "_________________________________________________________________\n"
          ]
        }
      ]
    },
    {
      "cell_type": "code",
      "source": [
        "model.compile(optimizer = \"sgd\", loss = \"categorical_crossentropy\", metrics = [\"accuracy\"])"
      ],
      "metadata": {
        "id": "2vnlnEYDUcRs"
      },
      "execution_count": 16,
      "outputs": []
    },
    {
      "cell_type": "code",
      "source": [
        "tf.keras.backend.clear_session() # TensorFlow models remember the last fit so when we call .fit again it starts from where it has left before. To avoid that we call this code\n",
        "model.fit(attributes, labels_ohe, epochs = 100)"
      ],
      "metadata": {
        "id": "-o4SWOL5Uk14"
      },
      "execution_count": null,
      "outputs": []
    },
    {
      "cell_type": "code",
      "source": [
        "predictions = model.predict(attributes)\n",
        "\n",
        "acc = tf.metrics.categorical_accuracy(labels_ohe, predictions)\n",
        "print(tf.math.reduce_mean(acc).numpy())\n"
      ],
      "metadata": {
        "colab": {
          "base_uri": "https://localhost:8080/"
        },
        "id": "eXUrdAt2UtS5",
        "outputId": "282d93eb-9964-48ad-fae2-e75dc550e31d"
      },
      "execution_count": 18,
      "outputs": [
        {
          "output_type": "stream",
          "name": "stdout",
          "text": [
            "5/5 [==============================] - 0s 2ms/step\n",
            "0.91333336\n"
          ]
        }
      ]
    },
    {
      "cell_type": "markdown",
      "source": [
        "### 4. Feed-forward NNs"
      ],
      "metadata": {
        "id": "cRjIwy1bjQk5"
      }
    },
    {
      "cell_type": "code",
      "source": [
        "mnist = tf.keras.datasets.mnist\n",
        "\n",
        "(x_train, y_train), (x_test, y_test) = mnist.load_data()\n",
        "x_train, x_test =x_train / 250.0, x_test / 250.0"
      ],
      "metadata": {
        "colab": {
          "base_uri": "https://localhost:8080/"
        },
        "id": "9mqdGv6LmurT",
        "outputId": "6830f6c8-ae6c-4fc7-a702-368decfd8a9d"
      },
      "execution_count": 19,
      "outputs": [
        {
          "output_type": "stream",
          "name": "stdout",
          "text": [
            "Downloading data from https://storage.googleapis.com/tensorflow/tf-keras-datasets/mnist.npz\n",
            "11490434/11490434 [==============================] - 0s 0us/step\n"
          ]
        }
      ]
    },
    {
      "cell_type": "code",
      "source": [
        "img = 565\n",
        "plt.imshow(x_train[img])\n",
        "plt.title(y_train[img])"
      ],
      "metadata": {
        "colab": {
          "base_uri": "https://localhost:8080/",
          "height": 0
        },
        "id": "ae2dcHBxoE0k",
        "outputId": "7427d45a-83c7-4cf3-f4e0-5884dd4c7247"
      },
      "execution_count": 20,
      "outputs": [
        {
          "output_type": "execute_result",
          "data": {
            "text/plain": [
              "Text(0.5, 1.0, '6')"
            ]
          },
          "metadata": {},
          "execution_count": 20
        },
        {
          "output_type": "display_data",
          "data": {
            "text/plain": [
              "<Figure size 640x480 with 1 Axes>"
            ],
            "image/png": "[encoded data removed]"
          },
          "metadata": {}
        }
      ]
    },
    {
      "cell_type": "code",
      "source": [
        "model = tf.keras.models.Sequential([\n",
        "    tf.keras.layers.Flatten(),\n",
        "    tf.keras.layers.Dense(512, activation = 'relu'),\n",
        "    tf.keras.layers.Dropout(0.2),\n",
        "    tf.keras.layers.Dense(10, activation = 'softmax')\n",
        "\n",
        "])\n",
        "model.compile(\n",
        "    optimizer = 'adam',\n",
        "    loss = 'sparse_categorical_crossentropy',\n",
        "    metrics = ['accuracy']\n",
        ")\n"
      ],
      "metadata": {
        "id": "Ee6aVR1znS0U"
      },
      "execution_count": 21,
      "outputs": []
    },
    {
      "cell_type": "code",
      "source": [
        "model.fit(x_train, y_train, epochs = 5)\n",
        "model.evaluate(x_test, y_test)"
      ],
      "metadata": {
        "colab": {
          "base_uri": "https://localhost:8080/"
        },
        "id": "15WuUafeoeo5",
        "outputId": "fdea1eb5-81a3-443b-f202-b2c6d200146c"
      },
      "execution_count": 22,
      "outputs": [
        {
          "output_type": "stream",
          "name": "stdout",
          "text": [
            "Epoch 1/5\n",
            "1875/1875 [==============================] - 7s 3ms/step - loss: 0.2197 - accuracy: 0.9354\n",
            "Epoch 2/5\n",
            "1875/1875 [==============================] - 6s 3ms/step - loss: 0.0978 - accuracy: 0.9702\n",
            "Epoch 3/5\n",
            "1875/1875 [==============================] - 5s 3ms/step - loss: 0.0699 - accuracy: 0.9783\n",
            "Epoch 4/5\n",
            "1875/1875 [==============================] - 5s 3ms/step - loss: 0.0549 - accuracy: 0.9824\n",
            "Epoch 5/5\n",
            "1875/1875 [==============================] - 6s 3ms/step - loss: 0.0436 - accuracy: 0.9859\n",
            "313/313 [==============================] - 1s 2ms/step - loss: 0.0638 - accuracy: 0.9807\n"
          ]
        },
        {
          "output_type": "execute_result",
          "data": {
            "text/plain": [
              "[0.0637650340795517, 0.9807000160217285]"
            ]
          },
          "metadata": {},
          "execution_count": 22
        }
      ]
    },
    {
      "cell_type": "markdown",
      "source": [
        "## DIY"
      ],
      "metadata": {
        "id": "bgSTtA1jmiGr"
      }
    },
    {
      "cell_type": "code",
      "source": [
        "tf.keras.backend.clear_session()"
      ],
      "metadata": {
        "id": "AizpAcXE0jwB"
      },
      "execution_count": 112,
      "outputs": []
    },
    {
      "cell_type": "code",
      "source": [
        "attributes, labels = load_iris().data, load_iris().target\n",
        "data, target  = load_iris(as_frame = True, return_X_y = True)"
      ],
      "metadata": {
        "id": "iI7jEiDwmnvk"
      },
      "execution_count": 42,
      "outputs": []
    },
    {
      "cell_type": "code",
      "source": [
        "# Combine attributes and labels into a single DataFrame\n",
        "df = pd.concat([data, target], axis=1)\n",
        "# Rename the target column to 'target'\n",
        "df.rename(columns={'target': 'label'}, inplace=True)\n",
        "\n",
        "df"
      ],
      "metadata": {
        "id": "BZgJxizSqj3R"
      },
      "execution_count": null,
      "outputs": []
    },
    {
      "cell_type": "code",
      "source": [
        "column_size = attributes.shape[1]\n",
        "classes_num = len(set(labels))\n",
        "labels_ohe = tf.one_hot(labels, depth = classes_num)\n",
        "column_size, classes_num"
      ],
      "metadata": {
        "id": "9MvICo32qRPa",
        "colab": {
          "base_uri": "https://localhost:8080/"
        },
        "outputId": "1dfc8ba9-6f96-4dda-a91e-a2f9ef38d34e"
      },
      "execution_count": 47,
      "outputs": [
        {
          "output_type": "execute_result",
          "data": {
            "text/plain": [
              "(4, 3)"
            ]
          },
          "metadata": {},
          "execution_count": 47
        }
      ]
    },
    {
      "cell_type": "code",
      "source": [
        "model = tf.keras.models.Sequential([\n",
        "    Input(shape = (column_size,)),\n",
        "    Dense(column_size, activation = \"softmax\"),\n",
        "    Dense(classes_num, activation = \"softmax\")\n",
        "])"
      ],
      "metadata": {
        "id": "c-PR6VnDnAqV"
      },
      "execution_count": 108,
      "outputs": []
    },
    {
      "cell_type": "code",
      "source": [
        "model.summary()"
      ],
      "metadata": {
        "colab": {
          "base_uri": "https://localhost:8080/"
        },
        "id": "sr0uOLXfuS8s",
        "outputId": "ed1db93f-28c4-4b6d-ad9d-1312ce296078"
      },
      "execution_count": 109,
      "outputs": [
        {
          "output_type": "stream",
          "name": "stdout",
          "text": [
            "Model: \"sequential_1\"\n",
            "_________________________________________________________________\n",
            " Layer (type)                Output Shape              Param #   \n",
            "=================================================================\n",
            " dense_6 (Dense)             (None, 4)                 20        \n",
            "                                                                 \n",
            " dense_7 (Dense)             (None, 3)                 15        \n",
            "                                                                 \n",
            "=================================================================\n",
            "Total params: 35 (140.00 Byte)\n",
            "Trainable params: 35 (140.00 Byte)\n",
            "Non-trainable params: 0 (0.00 Byte)\n",
            "_________________________________________________________________\n"
          ]
        }
      ]
    },
    {
      "cell_type": "markdown",
      "source": [
        "The summary tells us:\n",
        "\n",
        "* That we have 1 hidden layer\n",
        "* There are 3 possible outputs, it doesn't matter how many samples.\n",
        "* Alltogether: 15 nodes\n",
        "\n",
        "\n",
        "\n",
        "  "
      ],
      "metadata": {
        "id": "NwtQY8UguVyx"
      }
    },
    {
      "cell_type": "code",
      "source": [
        "%reload_ext tensorboard"
      ],
      "metadata": {
        "colab": {
          "base_uri": "https://localhost:8080/"
        },
        "id": "yg0nO0Awtdg7",
        "outputId": "6cb956a6-3af5-481d-a851-e9d528ef6d52"
      },
      "execution_count": 59,
      "outputs": [
        {
          "output_type": "stream",
          "name": "stdout",
          "text": [
            "The tensorboard extension is already loaded. To reload it, use:\n",
            "  %reload_ext tensorboard\n"
          ]
        }
      ]
    },
    {
      "cell_type": "code",
      "source": [
        "from tensorflow.keras.callbacks import TensorBoard\n",
        "import datetime\n",
        "\n",
        "# Define the TensorBoard callback\n",
        "log_dir = \"logs/fit/\" + datetime.datetime.now().strftime(\"%Y%m%d-%H%M%S\")\n",
        "tensorboard_callback = TensorBoard(log_dir=log_dir, histogram_freq=1)\n",
        "\n",
        "# opt = tf.keras.optimizers.SGD(learning_rate=0.1)\n",
        "\n",
        "# Compile your model\n",
        "model.compile(optimizer = 'sgd', loss='categorical_crossentropy', metrics=['accuracy'])\n",
        "\n",
        "# Fit the model with the TensorBoard callback\n",
        "model.fit(attributes, labels_ohe, epochs=100, callbacks=[tensorboard_callback])\n"
      ],
      "metadata": {
        "id": "8_wpA4RZwt8b"
      },
      "execution_count": null,
      "outputs": []
    },
    {
      "cell_type": "code",
      "source": [
        "%tensorboard --logdir logs"
      ],
      "metadata": {
        "id": "GsdyxavZwyjo"
      },
      "execution_count": null,
      "outputs": []
    },
    {
      "cell_type": "code",
      "source": [
        "model.evaluate(attributes, labels_ohe)"
      ],
      "metadata": {
        "colab": {
          "base_uri": "https://localhost:8080/"
        },
        "id": "2g_QIhQLyawn",
        "outputId": "76f21044-73c3-4de1-d910-6a57b5af2fe5"
      },
      "execution_count": 69,
      "outputs": [
        {
          "output_type": "stream",
          "name": "stdout",
          "text": [
            "5/5 [==============================] - 0s 5ms/step - loss: 1.0991 - accuracy: 0.3333\n"
          ]
        },
        {
          "output_type": "execute_result",
          "data": {
            "text/plain": [
              "[1.0991061925888062, 0.3333333432674408]"
            ]
          },
          "metadata": {},
          "execution_count": 69
        }
      ]
    }
  ]
}