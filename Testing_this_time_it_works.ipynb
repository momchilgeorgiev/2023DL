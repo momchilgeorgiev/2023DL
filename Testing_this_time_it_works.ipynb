{
  "nbformat": 4,
  "nbformat_minor": 0,
  "metadata": {
    "colab": {
      "provenance": [],
      "gpuType": "T4",
      "include_colab_link": true
    },
    "kernelspec": {
      "name": "python3",
      "display_name": "Python 3"
    },
    "language_info": {
      "name": "python"
    },
    "accelerator": "GPU"
  },
  "cells": [
    {
      "cell_type": "markdown",
      "metadata": {
        "id": "view-in-github",
        "colab_type": "text"
      },
      "source": [
        "<a href=\"https://colab.research.google.com/github/momchilgeorgiev/2023DL/blob/main/Testing_this_time_it_works.ipynb\" target=\"_parent\"><img src=\"https://colab.research.google.com/assets/colab-badge.svg\" alt=\"Open In Colab\"/></a>"
      ]
    },
    {
      "cell_type": "code",
      "execution_count": 1,
      "metadata": {
        "id": "Ezbd5Vj_W0FQ"
      },
      "outputs": [],
      "source": [
        "import tensorflow as tf\n",
        "import tensorflow_datasets as tfds\n",
        "from tensorflow.keras.layers import Dense, Flatten, Conv2D, \\\n",
        "                             Dropout, Input, MaxPool2D, Rescaling, BatchNormalization\n",
        "from tensorflow.keras.models import Sequential, Model\n",
        "\n",
        "import numpy as np\n",
        "import pandas as pd\n",
        "import matplotlib.pyplot as plt"
      ]
    },
    {
      "cell_type": "code",
      "source": [
        "(ds_train, ds_test), ds_info = tfds.load(\n",
        "    'cifar100',\n",
        "    split=['train', 'test'],\n",
        "    shuffle_files=True,\n",
        "    as_supervised=True,\n",
        "    with_info=True\n",
        ")"
      ],
      "metadata": {
        "id": "E0l_KRXrW4zn"
      },
      "execution_count": 6,
      "outputs": []
    },
    {
      "cell_type": "code",
      "source": [
        "ds_info.features"
      ],
      "metadata": {
        "colab": {
          "base_uri": "https://localhost:8080/"
        },
        "id": "pKC1ncfA_PZv",
        "outputId": "57a85d82-c586-498d-f174-146f32c75a7e"
      },
      "execution_count": 38,
      "outputs": [
        {
          "output_type": "execute_result",
          "data": {
            "text/plain": [
              "FeaturesDict({\n",
              "    'coarse_label': ClassLabel(shape=(), dtype=int64, num_classes=20),\n",
              "    'id': Text(shape=(), dtype=string),\n",
              "    'image': Image(shape=(32, 32, 3), dtype=uint8),\n",
              "    'label': ClassLabel(shape=(), dtype=int64, num_classes=100),\n",
              "})"
            ]
          },
          "metadata": {},
          "execution_count": 38
        }
      ]
    },
    {
      "cell_type": "markdown",
      "source": [
        "### Dataset to numpy:"
      ],
      "metadata": {
        "id": "hrHBHTzjbhis"
      }
    },
    {
      "cell_type": "code",
      "source": [
        "# Create a subset of ds_train and ds_val\n",
        "ds_train_subset = ds_train.take(500)\n",
        "ds_val = ds_train.skip(600).take(50)\n",
        "\n",
        "# Convert datasets to np arrays\n",
        "def dataset_to_numpy(dataset):\n",
        "    features = []\n",
        "    labels = []\n",
        "\n",
        "    for feature, label in tfds.as_numpy(dataset):\n",
        "        features.append(feature)\n",
        "        labels.append(label)\n",
        "\n",
        "    return np.array(features), np.array(labels)\n",
        "\n",
        "# Convert ds_train_subset and ds_val to np arrays\n",
        "np_train_features, np_train_labels = dataset_to_numpy(ds_train_subset)\n",
        "np_val_features, np_val_labels = dataset_to_numpy(ds_val)"
      ],
      "metadata": {
        "id": "3h9_p-G-zEsf"
      },
      "execution_count": 5,
      "outputs": []
    },
    {
      "cell_type": "code",
      "source": [
        "print(\"-------TRAIN--------\")\n",
        "print(np_train_features.shape)\n",
        "print(np_train_labels.shape)\n",
        "print(\"-------VALIDATION--------\")\n",
        "print(np_val_features.shape)\n",
        "print(np_val_labels.shape)"
      ],
      "metadata": {
        "colab": {
          "base_uri": "https://localhost:8080/"
        },
        "id": "hM-us8alzlQZ",
        "outputId": "bbfadd3c-c882-4e5f-f837-19c49c328589"
      },
      "execution_count": 6,
      "outputs": [
        {
          "output_type": "stream",
          "name": "stdout",
          "text": [
            "-------TRAIN--------\n",
            "(500, 16, 32, 32, 3)\n",
            "(500, 16)\n",
            "-------VALIDATION--------\n",
            "(50, 16, 32, 32, 3)\n",
            "(50, 16)\n"
          ]
        }
      ]
    },
    {
      "cell_type": "code",
      "source": [
        "np_test_features, np_test_labels = dataset_to_numpy(ds_test)\n",
        "print(\"-------TEST--------\")\n",
        "print(np_test_features.shape)\n",
        "print(np_test_labels.shape)"
      ],
      "metadata": {
        "colab": {
          "base_uri": "https://localhost:8080/"
        },
        "id": "xWZXClgzz-zp",
        "outputId": "864fdd79-d032-4bd2-a941-65814e111f02"
      },
      "execution_count": 7,
      "outputs": [
        {
          "output_type": "stream",
          "name": "stdout",
          "text": [
            "-------TEST--------\n",
            "(625, 16, 32, 32, 3)\n",
            "(625, 16)\n"
          ]
        }
      ]
    },
    {
      "cell_type": "code",
      "source": [
        "CLASS_NUM = np_test_labels.shape[1]\n",
        "print(CLASS_NUM)"
      ],
      "metadata": {
        "id": "Oyzksik8SQfX",
        "colab": {
          "base_uri": "https://localhost:8080/"
        },
        "outputId": "8109daa7-de6f-45ba-e987-365dea0eb540"
      },
      "execution_count": 8,
      "outputs": [
        {
          "output_type": "stream",
          "name": "stdout",
          "text": [
            "16\n"
          ]
        }
      ]
    },
    {
      "cell_type": "markdown",
      "source": [
        "### Preprocessing #2"
      ],
      "metadata": {
        "id": "yObJsd8rbpWA"
      }
    },
    {
      "cell_type": "code",
      "source": [
        "def preprocess(image, label):\n",
        "    image = tf.image.per_image_standardization(image)\n",
        "\n",
        "    image = tf.image.random_flip_left_right(image)\n",
        "    image = tf.image.random_brightness(image, max_delta=0.1)\n",
        "    return image, label"
      ],
      "metadata": {
        "id": "p_Gn6CxQDE9M"
      },
      "execution_count": 4,
      "outputs": []
    },
    {
      "cell_type": "code",
      "source": [
        "AUTO = tf.data.experimental.AUTOTUNE\n",
        "BATCH_SIZE = 64\n",
        "ds_info.features['label'].num_classes\n",
        "\n",
        "ds_train = ds_train.cache().shuffle(1000).batch(BATCH_SIZE)\n",
        "ds_train = ds_train.prefetch(AUTO)\n",
        "\n",
        "ds_test = ds_test.batch(BATCH_SIZE)\n",
        "ds_test = ds_test.prefetch(buffer_size=tf.data.experimental.AUTOTUNE)"
      ],
      "metadata": {
        "id": "JtlpmV09a1rJ"
      },
      "execution_count": 9,
      "outputs": []
    },
    {
      "cell_type": "code",
      "source": [
        "tf.keras.backend.clear_session()\n",
        "model = Sequential([\n",
        "\n",
        "    Conv2D(32, (3, 3), activation='relu', input_shape=ds_info.features['image'].shape),\n",
        "    BatchNormalization(),\n",
        "    Conv2D(32, (3, 3), activation='relu'),\n",
        "    MaxPool2D(),\n",
        "    Dropout(0.3),\n",
        "\n",
        "    Conv2D(64, (3, 3), activation='relu'),\n",
        "    BatchNormalization(),\n",
        "    Conv2D(64, (3, 3), activation='relu'),\n",
        "    MaxPool2D(),\n",
        "    Dropout(0.4),\n",
        "\n",
        "    Flatten(),\n",
        "    Dense(128, activation='relu'),\n",
        "    Dropout(0.2),\n",
        "    Dense(CLASS_NUM, activation='softmax')\n",
        "\n",
        "    ])"
      ],
      "metadata": {
        "id": "yJlr8QnZHhvf"
      },
      "execution_count": 50,
      "outputs": []
    },
    {
      "cell_type": "code",
      "source": [
        "# Compile the model\n",
        "model.compile(optimizer='adam', loss='sparse_categorical_crossentropy', metrics=['accuracy'])\n",
        "\n",
        "# Train the model\n",
        "history = model.fit(ds_train, epochs=100, validation_data=ds_test)"
      ],
      "metadata": {
        "colab": {
          "base_uri": "https://localhost:8080/"
        },
        "id": "jvLTWiKfDWS9",
        "outputId": "fa3252eb-9913-41cd-a7f3-62ee792dc663"
      },
      "execution_count": 49,
      "outputs": [
        {
          "output_type": "stream",
          "name": "stderr",
          "text": [
            "Exception ignored in: <function WeakKeyDictionary.__init__.<locals>.remove at 0x7ed326b6caf0>\n",
            "Traceback (most recent call last):\n",
            "  File \"/usr/lib/python3.10/weakref.py\", line 370, in remove\n",
            "    def remove(k, selfref=ref(self)):\n",
            "KeyboardInterrupt: \n"
          ]
        },
        {
          "output_type": "stream",
          "name": "stdout",
          "text": [
            "782/782 [==============================] - 84s 10ms/step - loss: 3.2227 - accuracy: 0.2096 - val_loss: 2.8862 - val_accuracy: 0.2846\n",
            "Epoch 2/100\n",
            "782/782 [==============================] - 7s 9ms/step - loss: 3.1599 - accuracy: 0.2196 - val_loss: 2.8784 - val_accuracy: 0.2827\n",
            "Epoch 3/100\n",
            "782/782 [==============================] - 7s 9ms/step - loss: 3.0925 - accuracy: 0.2324 - val_loss: 2.7200 - val_accuracy: 0.3191\n",
            "Epoch 4/100\n",
            "782/782 [==============================] - 7s 9ms/step - loss: 3.0369 - accuracy: 0.2422 - val_loss: 2.6851 - val_accuracy: 0.3264\n",
            "Epoch 5/100\n",
            "782/782 [==============================] - 6s 8ms/step - loss: 2.9833 - accuracy: 0.2547 - val_loss: 2.6296 - val_accuracy: 0.3319\n",
            "Epoch 6/100\n",
            "782/782 [==============================] - 7s 9ms/step - loss: 2.9267 - accuracy: 0.2640 - val_loss: 2.6121 - val_accuracy: 0.3455\n",
            "Epoch 7/100\n",
            "782/782 [==============================] - 6s 8ms/step - loss: 2.8909 - accuracy: 0.2692 - val_loss: 2.5826 - val_accuracy: 0.3430\n",
            "Epoch 8/100\n",
            "782/782 [==============================] - 7s 9ms/step - loss: 2.8592 - accuracy: 0.2740 - val_loss: 2.4976 - val_accuracy: 0.3602\n",
            "Epoch 9/100\n",
            "782/782 [==============================] - 8s 10ms/step - loss: 2.8258 - accuracy: 0.2841 - val_loss: 2.5741 - val_accuracy: 0.3454\n",
            "Epoch 10/100\n",
            "782/782 [==============================] - 7s 9ms/step - loss: 2.7925 - accuracy: 0.2867 - val_loss: 2.4216 - val_accuracy: 0.3790\n",
            "Epoch 11/100\n",
            "782/782 [==============================] - 7s 9ms/step - loss: 2.7636 - accuracy: 0.2937 - val_loss: 2.4278 - val_accuracy: 0.3753\n",
            "Epoch 12/100\n",
            "782/782 [==============================] - 7s 8ms/step - loss: 2.7352 - accuracy: 0.3011 - val_loss: 2.4309 - val_accuracy: 0.3812\n",
            "Epoch 13/100\n",
            "782/782 [==============================] - 7s 9ms/step - loss: 2.7136 - accuracy: 0.3043 - val_loss: 2.4207 - val_accuracy: 0.3717\n",
            "Epoch 14/100\n",
            "782/782 [==============================] - 6s 8ms/step - loss: 2.6881 - accuracy: 0.3079 - val_loss: 2.3984 - val_accuracy: 0.3801\n",
            "Epoch 15/100\n",
            "782/782 [==============================] - 6s 8ms/step - loss: 2.6735 - accuracy: 0.3127 - val_loss: 2.3579 - val_accuracy: 0.3863\n",
            "Epoch 16/100\n",
            "782/782 [==============================] - 7s 9ms/step - loss: 2.6532 - accuracy: 0.3173 - val_loss: 2.3381 - val_accuracy: 0.3911\n",
            "Epoch 17/100\n",
            "782/782 [==============================] - 7s 9ms/step - loss: 2.6329 - accuracy: 0.3167 - val_loss: 2.3325 - val_accuracy: 0.3899\n",
            "Epoch 18/100\n",
            "782/782 [==============================] - 8s 10ms/step - loss: 2.6230 - accuracy: 0.3249 - val_loss: 2.3245 - val_accuracy: 0.3976\n",
            "Epoch 19/100\n",
            "782/782 [==============================] - 6s 8ms/step - loss: 2.6055 - accuracy: 0.3262 - val_loss: 2.3688 - val_accuracy: 0.3838\n",
            "Epoch 20/100\n",
            "782/782 [==============================] - 7s 9ms/step - loss: 2.5797 - accuracy: 0.3321 - val_loss: 2.2840 - val_accuracy: 0.4000\n",
            "Epoch 21/100\n",
            "782/782 [==============================] - 6s 8ms/step - loss: 2.5670 - accuracy: 0.3335 - val_loss: 2.3120 - val_accuracy: 0.3919\n",
            "Epoch 22/100\n",
            "782/782 [==============================] - 6s 8ms/step - loss: 2.5569 - accuracy: 0.3328 - val_loss: 2.2374 - val_accuracy: 0.4141\n",
            "Epoch 23/100\n",
            "782/782 [==============================] - 7s 9ms/step - loss: 2.5585 - accuracy: 0.3370 - val_loss: 2.2752 - val_accuracy: 0.4012\n",
            "Epoch 24/100\n",
            "782/782 [==============================] - 7s 9ms/step - loss: 2.5440 - accuracy: 0.3378 - val_loss: 2.2493 - val_accuracy: 0.4014\n",
            "Epoch 25/100\n",
            "782/782 [==============================] - 8s 10ms/step - loss: 2.5155 - accuracy: 0.3420 - val_loss: 2.2143 - val_accuracy: 0.4150\n",
            "Epoch 26/100\n",
            "782/782 [==============================] - 6s 8ms/step - loss: 2.5126 - accuracy: 0.3411 - val_loss: 2.2551 - val_accuracy: 0.4076\n",
            "Epoch 27/100\n",
            "782/782 [==============================] - 7s 9ms/step - loss: 2.4930 - accuracy: 0.3484 - val_loss: 2.2570 - val_accuracy: 0.4044\n",
            "Epoch 28/100\n",
            "782/782 [==============================] - 7s 9ms/step - loss: 2.4880 - accuracy: 0.3479 - val_loss: 2.2034 - val_accuracy: 0.4129\n",
            "Epoch 29/100\n",
            "782/782 [==============================] - 7s 9ms/step - loss: 2.4883 - accuracy: 0.3495 - val_loss: 2.2088 - val_accuracy: 0.4165\n",
            "Epoch 30/100\n",
            "782/782 [==============================] - 6s 8ms/step - loss: 2.4744 - accuracy: 0.3487 - val_loss: 2.1771 - val_accuracy: 0.4219\n",
            "Epoch 31/100\n",
            "782/782 [==============================] - 6s 8ms/step - loss: 2.4734 - accuracy: 0.3505 - val_loss: 2.1647 - val_accuracy: 0.4238\n",
            "Epoch 32/100\n",
            "782/782 [==============================] - 7s 9ms/step - loss: 2.4629 - accuracy: 0.3521 - val_loss: 2.2514 - val_accuracy: 0.4094\n",
            "Epoch 33/100\n",
            "782/782 [==============================] - 7s 8ms/step - loss: 2.4536 - accuracy: 0.3556 - val_loss: 2.1779 - val_accuracy: 0.4214\n",
            "Epoch 34/100\n",
            "782/782 [==============================] - 7s 9ms/step - loss: 2.4427 - accuracy: 0.3587 - val_loss: 2.1759 - val_accuracy: 0.4213\n",
            "Epoch 35/100\n",
            "782/782 [==============================] - 6s 8ms/step - loss: 2.4423 - accuracy: 0.3585 - val_loss: 2.1599 - val_accuracy: 0.4292\n",
            "Epoch 36/100\n",
            "782/782 [==============================] - 7s 9ms/step - loss: 2.4333 - accuracy: 0.3590 - val_loss: 2.1282 - val_accuracy: 0.4333\n",
            "Epoch 37/100\n",
            "782/782 [==============================] - 7s 8ms/step - loss: 2.4165 - accuracy: 0.3631 - val_loss: 2.1456 - val_accuracy: 0.4292\n",
            "Epoch 38/100\n",
            "782/782 [==============================] - 7s 9ms/step - loss: 2.4118 - accuracy: 0.3628 - val_loss: 2.1513 - val_accuracy: 0.4300\n",
            "Epoch 39/100\n",
            "782/782 [==============================] - 7s 9ms/step - loss: 2.4096 - accuracy: 0.3625 - val_loss: 2.1194 - val_accuracy: 0.4331\n",
            "Epoch 40/100\n",
            "782/782 [==============================] - 7s 9ms/step - loss: 2.4041 - accuracy: 0.3645 - val_loss: 2.1091 - val_accuracy: 0.4355\n",
            "Epoch 41/100\n",
            "782/782 [==============================] - 7s 8ms/step - loss: 2.3923 - accuracy: 0.3664 - val_loss: 2.1217 - val_accuracy: 0.4249\n",
            "Epoch 42/100\n",
            "782/782 [==============================] - 7s 9ms/step - loss: 2.3934 - accuracy: 0.3685 - val_loss: 2.1213 - val_accuracy: 0.4335\n",
            "Epoch 43/100\n",
            "782/782 [==============================] - 6s 8ms/step - loss: 2.3920 - accuracy: 0.3683 - val_loss: 2.1123 - val_accuracy: 0.4386\n",
            "Epoch 44/100\n",
            "782/782 [==============================] - 7s 8ms/step - loss: 2.3881 - accuracy: 0.3694 - val_loss: 2.0887 - val_accuracy: 0.4377\n",
            "Epoch 45/100\n",
            "782/782 [==============================] - 7s 9ms/step - loss: 2.3818 - accuracy: 0.3705 - val_loss: 2.1396 - val_accuracy: 0.4303\n",
            "Epoch 46/100\n",
            "782/782 [==============================] - 7s 9ms/step - loss: 2.3674 - accuracy: 0.3708 - val_loss: 2.0966 - val_accuracy: 0.4326\n",
            "Epoch 47/100\n",
            "782/782 [==============================] - 6s 8ms/step - loss: 2.3668 - accuracy: 0.3730 - val_loss: 2.1026 - val_accuracy: 0.4369\n",
            "Epoch 48/100\n",
            "782/782 [==============================] - 7s 9ms/step - loss: 2.3606 - accuracy: 0.3757 - val_loss: 2.1028 - val_accuracy: 0.4330\n",
            "Epoch 49/100\n",
            "782/782 [==============================] - 6s 8ms/step - loss: 2.3554 - accuracy: 0.3744 - val_loss: 2.0836 - val_accuracy: 0.4441\n",
            "Epoch 50/100\n",
            "782/782 [==============================] - 7s 9ms/step - loss: 2.3577 - accuracy: 0.3739 - val_loss: 2.1065 - val_accuracy: 0.4415\n",
            "Epoch 51/100\n",
            "782/782 [==============================] - 7s 9ms/step - loss: 2.3465 - accuracy: 0.3783 - val_loss: 2.0754 - val_accuracy: 0.4417\n",
            "Epoch 52/100\n",
            "782/782 [==============================] - 8s 10ms/step - loss: 2.3506 - accuracy: 0.3759 - val_loss: 2.0958 - val_accuracy: 0.4423\n",
            "Epoch 53/100\n",
            "782/782 [==============================] - 7s 9ms/step - loss: 2.3491 - accuracy: 0.3778 - val_loss: 2.0747 - val_accuracy: 0.4437\n",
            "Epoch 54/100\n",
            "782/782 [==============================] - 7s 9ms/step - loss: 2.3297 - accuracy: 0.3798 - val_loss: 2.0819 - val_accuracy: 0.4439\n",
            "Epoch 55/100\n",
            "782/782 [==============================] - 7s 9ms/step - loss: 2.3361 - accuracy: 0.3782 - val_loss: 2.0758 - val_accuracy: 0.4485\n",
            "Epoch 56/100\n",
            "782/782 [==============================] - 6s 8ms/step - loss: 2.3317 - accuracy: 0.3798 - val_loss: 2.0557 - val_accuracy: 0.4506\n",
            "Epoch 57/100\n",
            "782/782 [==============================] - 7s 9ms/step - loss: 2.3292 - accuracy: 0.3775 - val_loss: 2.0851 - val_accuracy: 0.4428\n",
            "Epoch 58/100\n",
            "782/782 [==============================] - 6s 8ms/step - loss: 2.3201 - accuracy: 0.3838 - val_loss: 2.0841 - val_accuracy: 0.4454\n",
            "Epoch 59/100\n",
            "782/782 [==============================] - 7s 9ms/step - loss: 2.3237 - accuracy: 0.3802 - val_loss: 2.0670 - val_accuracy: 0.4475\n",
            "Epoch 60/100\n",
            "782/782 [==============================] - 7s 8ms/step - loss: 2.3169 - accuracy: 0.3803 - val_loss: 2.0697 - val_accuracy: 0.4503\n",
            "Epoch 61/100\n",
            "782/782 [==============================] - 7s 9ms/step - loss: 2.3193 - accuracy: 0.3813 - val_loss: 2.0483 - val_accuracy: 0.4481\n",
            "Epoch 62/100\n",
            "782/782 [==============================] - 7s 8ms/step - loss: 2.3170 - accuracy: 0.3811 - val_loss: 2.0751 - val_accuracy: 0.4425\n",
            "Epoch 63/100\n",
            "782/782 [==============================] - 7s 9ms/step - loss: 2.3078 - accuracy: 0.3841 - val_loss: 2.0747 - val_accuracy: 0.4474\n",
            "Epoch 64/100\n",
            "782/782 [==============================] - 8s 10ms/step - loss: 2.3140 - accuracy: 0.3809 - val_loss: 2.0341 - val_accuracy: 0.4599\n",
            "Epoch 65/100\n",
            "782/782 [==============================] - 6s 8ms/step - loss: 2.2973 - accuracy: 0.3848 - val_loss: 2.0878 - val_accuracy: 0.4415\n",
            "Epoch 66/100\n",
            "782/782 [==============================] - 7s 9ms/step - loss: 2.2977 - accuracy: 0.3860 - val_loss: 2.1176 - val_accuracy: 0.4361\n",
            "Epoch 67/100\n",
            "782/782 [==============================] - 6s 8ms/step - loss: 2.2941 - accuracy: 0.3842 - val_loss: 2.0769 - val_accuracy: 0.4446\n",
            "Epoch 68/100\n",
            "782/782 [==============================] - 7s 9ms/step - loss: 2.2889 - accuracy: 0.3875 - val_loss: 2.0390 - val_accuracy: 0.4542\n",
            "Epoch 69/100\n",
            "782/782 [==============================] - 7s 9ms/step - loss: 2.3005 - accuracy: 0.3846 - val_loss: 2.0821 - val_accuracy: 0.4404\n",
            "Epoch 70/100\n",
            "782/782 [==============================] - 6s 8ms/step - loss: 2.2891 - accuracy: 0.3860 - val_loss: 2.0938 - val_accuracy: 0.4493\n",
            "Epoch 71/100\n",
            "782/782 [==============================] - 7s 9ms/step - loss: 2.2871 - accuracy: 0.3866 - val_loss: 2.0858 - val_accuracy: 0.4470\n",
            "Epoch 72/100\n",
            "782/782 [==============================] - 7s 9ms/step - loss: 2.2889 - accuracy: 0.3844 - val_loss: 2.0643 - val_accuracy: 0.4429\n",
            "Epoch 73/100\n",
            "782/782 [==============================] - 6s 8ms/step - loss: 2.2835 - accuracy: 0.3895 - val_loss: 2.0424 - val_accuracy: 0.4534\n",
            "Epoch 74/100\n",
            "782/782 [==============================] - 7s 9ms/step - loss: 2.2712 - accuracy: 0.3928 - val_loss: 2.0146 - val_accuracy: 0.4608\n",
            "Epoch 75/100\n",
            "782/782 [==============================] - 6s 8ms/step - loss: 2.2796 - accuracy: 0.3890 - val_loss: 2.0345 - val_accuracy: 0.4569\n",
            "Epoch 76/100\n",
            "782/782 [==============================] - 7s 9ms/step - loss: 2.2813 - accuracy: 0.3911 - val_loss: 2.0369 - val_accuracy: 0.4533\n",
            "Epoch 77/100\n",
            "782/782 [==============================] - 7s 9ms/step - loss: 2.2806 - accuracy: 0.3898 - val_loss: 2.0277 - val_accuracy: 0.4583\n",
            "Epoch 78/100\n",
            "782/782 [==============================] - 7s 8ms/step - loss: 2.2685 - accuracy: 0.3936 - val_loss: 2.0580 - val_accuracy: 0.4527\n",
            "Epoch 79/100\n",
            "782/782 [==============================] - 7s 8ms/step - loss: 2.2703 - accuracy: 0.3917 - val_loss: 2.0420 - val_accuracy: 0.4531\n",
            "Epoch 80/100\n",
            "782/782 [==============================] - 7s 9ms/step - loss: 2.2614 - accuracy: 0.3936 - val_loss: 2.0364 - val_accuracy: 0.4578\n",
            "Epoch 81/100\n",
            "782/782 [==============================] - 7s 9ms/step - loss: 2.2686 - accuracy: 0.3918 - val_loss: 2.0508 - val_accuracy: 0.4518\n",
            "Epoch 82/100\n",
            "782/782 [==============================] - 6s 8ms/step - loss: 2.2537 - accuracy: 0.3953 - val_loss: 2.0352 - val_accuracy: 0.4534\n",
            "Epoch 83/100\n",
            "782/782 [==============================] - 7s 9ms/step - loss: 2.2702 - accuracy: 0.3926 - val_loss: 2.0474 - val_accuracy: 0.4508\n",
            "Epoch 84/100\n",
            "782/782 [==============================] - 7s 8ms/step - loss: 2.2556 - accuracy: 0.3934 - val_loss: 2.0400 - val_accuracy: 0.4567\n",
            "Epoch 85/100\n",
            "782/782 [==============================] - 7s 9ms/step - loss: 2.2489 - accuracy: 0.3934 - val_loss: 2.0145 - val_accuracy: 0.4614\n",
            "Epoch 86/100\n",
            "782/782 [==============================] - 7s 9ms/step - loss: 2.2579 - accuracy: 0.3947 - val_loss: 2.0123 - val_accuracy: 0.4653\n",
            "Epoch 87/100\n",
            "782/782 [==============================] - 7s 8ms/step - loss: 2.2511 - accuracy: 0.3961 - val_loss: 1.9959 - val_accuracy: 0.4668\n",
            "Epoch 88/100\n",
            "782/782 [==============================] - 9s 12ms/step - loss: 2.2479 - accuracy: 0.3960 - val_loss: 2.0466 - val_accuracy: 0.4514\n",
            "Epoch 89/100\n",
            "782/782 [==============================] - 7s 9ms/step - loss: 2.2484 - accuracy: 0.3998 - val_loss: 2.0178 - val_accuracy: 0.4584\n",
            "Epoch 90/100\n",
            "782/782 [==============================] - 7s 8ms/step - loss: 2.2530 - accuracy: 0.3957 - val_loss: 2.0078 - val_accuracy: 0.4593\n",
            "Epoch 91/100\n",
            "782/782 [==============================] - 7s 9ms/step - loss: 2.2424 - accuracy: 0.3949 - val_loss: 2.0345 - val_accuracy: 0.4567\n",
            "Epoch 92/100\n",
            "782/782 [==============================] - 7s 9ms/step - loss: 2.2505 - accuracy: 0.3970 - val_loss: 2.0166 - val_accuracy: 0.4579\n",
            "Epoch 93/100\n",
            "782/782 [==============================] - 7s 9ms/step - loss: 2.2474 - accuracy: 0.3946 - val_loss: 2.0110 - val_accuracy: 0.4587\n",
            "Epoch 94/100\n",
            "782/782 [==============================] - 7s 9ms/step - loss: 2.2440 - accuracy: 0.3958 - val_loss: 2.0216 - val_accuracy: 0.4608\n",
            "Epoch 95/100\n",
            "782/782 [==============================] - 8s 10ms/step - loss: 2.2404 - accuracy: 0.3994 - val_loss: 2.0141 - val_accuracy: 0.4590\n",
            "Epoch 96/100\n",
            "782/782 [==============================] - 6s 8ms/step - loss: 2.2301 - accuracy: 0.3979 - val_loss: 2.0241 - val_accuracy: 0.4615\n",
            "Epoch 97/100\n",
            "782/782 [==============================] - 7s 9ms/step - loss: 2.2315 - accuracy: 0.3992 - val_loss: 1.9921 - val_accuracy: 0.4635\n",
            "Epoch 98/100\n",
            "782/782 [==============================] - 6s 8ms/step - loss: 2.2364 - accuracy: 0.4014 - val_loss: 1.9894 - val_accuracy: 0.4650\n",
            "Epoch 99/100\n",
            "782/782 [==============================] - 6s 8ms/step - loss: 2.2277 - accuracy: 0.4008 - val_loss: 2.0201 - val_accuracy: 0.4523\n",
            "Epoch 100/100\n",
            "782/782 [==============================] - 6s 8ms/step - loss: 2.2276 - accuracy: 0.4024 - val_loss: 2.0210 - val_accuracy: 0.4621\n"
          ]
        }
      ]
    },
    {
      "cell_type": "code",
      "source": [
        "model.save_weights('model.h5')"
      ],
      "metadata": {
        "id": "Flt5OlPHIjf9"
      },
      "execution_count": 53,
      "outputs": []
    }
  ]
}